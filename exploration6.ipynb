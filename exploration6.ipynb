{
 "cells": [
  {
   "cell_type": "markdown",
   "id": "d840cf6a",
   "metadata": {},
   "source": [
    "# 라이브러리 버전 확인"
   ]
  },
  {
   "cell_type": "code",
   "execution_count": 1,
   "id": "502bf5fe",
   "metadata": {},
   "outputs": [
    {
     "name": "stdout",
     "output_type": "stream",
     "text": [
      "2.6.0\n"
     ]
    }
   ],
   "source": [
    "import glob  #glob 모듈의 glob 함수는 사용자가 제시한 조건에 맞는 파일명을 리스트 형식으로 반환한다\n",
    "import tensorflow\n",
    "\n",
    "print(tensorflow.__version__)"
   ]
  },
  {
   "cell_type": "markdown",
   "id": "879d377f",
   "metadata": {},
   "source": [
    "# 데이터 읽어오기"
   ]
  },
  {
   "cell_type": "code",
   "execution_count": 8,
   "id": "87d6c9ba",
   "metadata": {
    "scrolled": true
   },
   "outputs": [
    {
     "name": "stdout",
     "output_type": "stream",
     "text": [
      "데이터 크기: 187088\n",
      "Examples:\n",
      " [\"Now I've heard there was a secret chord\", 'That David played, and it pleased the Lord', \"But you don't really care for music, do you?\"]\n"
     ]
    }
   ],
   "source": [
    "import glob\n",
    "import os, re \n",
    "import numpy as np\n",
    "import tensorflow as tf\n",
    "\n",
    "txt_file_path = os.getenv('HOME')+'/aiffel/lyricist/data/lyrics/*' #os.getenv(x)함수는 환경 변수x의 값을 포함하는 문자열 변수를 반환합니다. txt_file_path 에 \"/root/aiffel/lyricist/data/lyrics/*\" 저장\n",
    "\n",
    "txt_list = glob.glob(txt_file_path) #txt_file_path 경로에 있는 모든 파일명을 리스트 형식으로 txt_list 에 할당\n",
    "\n",
    "raw_corpus = [] \n",
    "\n",
    "# 여러개의 txt 파일을 모두 읽어서 raw_corpus 에 담습니다.\n",
    "for txt_file in txt_list:\n",
    "    with open(txt_file, \"r\") as f:\n",
    "        raw = f.read().splitlines() #read() : 파일 전체의 내용을 하나의 문자열로 읽어온다. , splitlines()  : 여러라인으로 구분되어 있는 문자열을 한라인씩 분리하여 리스트로 반환\n",
    "        raw_corpus.extend(raw) # extend() : 리스트함수로 추가적인 내용을 연장 한다.\n",
    "\n",
    "print(\"데이터 크기:\", len(raw_corpus))\n",
    "print(\"Examples:\\n\", raw_corpus[:3])"
   ]
  },
  {
   "cell_type": "markdown",
   "id": "463e2a22",
   "metadata": {},
   "source": [
    "# Step 3. 데이터 정제"
   ]
  },
  {
   "cell_type": "code",
   "execution_count": 32,
   "id": "80bc1d67",
   "metadata": {},
   "outputs": [
    {
     "name": "stdout",
     "output_type": "stream",
     "text": [
      "<start> this is sample sentence . <end>\n"
     ]
    }
   ],
   "source": [
    "# 입력된 문장을\n",
    "#     1. 소문자로 바꾸고, 양쪽 공백을 지웁니다\n",
    "#     2. 특수문자 양쪽에 공백을 넣고\n",
    "#     3. 여러개의 공백은 하나의 공백으로 바꿉니다\n",
    "#     4. a-zA-Z?.!,¿가 아닌 모든 문자를 하나의 공백으로 바꿉니다\n",
    "#     5. 다시 양쪽 공백을 지웁니다\n",
    "#     6. 문장 시작에는 <start>, 끝에는 <end>를 추가합니다\n",
    "# 이 순서로 처리해주면 문제가 되는 상황을 방지할 수 있겠네요!\n",
    "def preprocess_sentence(sentence):\n",
    "    sentence = sentence.lower().strip() # 1\n",
    "    sentence = re.sub(r\"([?.!,¿])\", r\" \\1 \", sentence) # 2\n",
    "    sentence = re.sub(r'[\" \"]+', \" \", sentence) # 3\n",
    "    sentence = re.sub(r\"[^a-zA-Z?.!,¿]+\", \" \", sentence) # 4\n",
    "    sentence = sentence.strip() # 5\n",
    "    sentence = '<start> ' + sentence + ' <end>' # 6\n",
    "    return sentence\n",
    "\n",
    "# 이 문장이 어떻게 필터링되는지 확인해 보세요.\n",
    "print(preprocess_sentence(\"This @_is ;;;sample        sentence.\"))"
   ]
  },
  {
   "cell_type": "code",
   "execution_count": 39,
   "id": "f0e5dfd5",
   "metadata": {},
   "outputs": [
    {
     "data": {
      "text/plain": [
       "['<start> now i ve heard there was a secret chord <end>',\n",
       " '<start> that david played , and it pleased the lord <end>',\n",
       " '<start> but you don t really care for music , do you ? <end>',\n",
       " '<start> it goes like this <end>',\n",
       " '<start> the fourth , the fifth <end>',\n",
       " '<start> the minor fall , the major lift <end>',\n",
       " '<start> the baffled king composing hallelujah hallelujah <end>',\n",
       " '<start> hallelujah <end>',\n",
       " '<start> hallelujah <end>',\n",
       " '<start> hallelujah your faith was strong but you needed proof <end>',\n",
       " '<start> you saw her bathing on the roof <end>',\n",
       " '<start> her beauty and the moonlight overthrew her <end>',\n",
       " '<start> she tied you <end>',\n",
       " '<start> to a kitchen chair <end>',\n",
       " '<start> she broke your throne , and she cut your hair <end>',\n",
       " '<start> and from your lips she drew the hallelujah hallelujah <end>',\n",
       " '<start> hallelujah <end>',\n",
       " '<start> hallelujah <end>',\n",
       " '<start> hallelujah you say i took the name in vain <end>',\n",
       " '<start> i don t even know the name <end>',\n",
       " '<start> but if i did , well really , what s it to you ? <end>',\n",
       " '<start> there s a blaze of light <end>',\n",
       " '<start> in every word <end>',\n",
       " '<start> it doesn t matter which you heard <end>',\n",
       " '<start> the holy or the broken hallelujah hallelujah <end>',\n",
       " '<start> hallelujah <end>',\n",
       " '<start> hallelujah <end>',\n",
       " '<start> hallelujah i did my best , it wasn t much <end>',\n",
       " '<start> i couldn t feel , so i tried to touch <end>',\n",
       " '<start> i ve told the truth , i didn t come to fool you <end>']"
      ]
     },
     "execution_count": 39,
     "metadata": {},
     "output_type": "execute_result"
    }
   ],
   "source": [
    "# 여기에 정제된 문장을 모을겁니다\n",
    "corpus = []\n",
    "\n",
    "# raw_corpus list에 저장된 문장들을 순서대로 반환하여 sentence에 저장\n",
    "for sentence in raw_corpus:\n",
    "    # 우리가 원하지 않는 문장은 건너뜁니다\n",
    "    if len(sentence) == 0: continue\n",
    "    if sentence[-1] == \":\": continue\n",
    "    sentence_split = sentence.split()\n",
    "    if len(sentence_split) > 14 : continue\n",
    "    \n",
    "    # 앞서 구현한 preprocess_sentence() 함수를 이용하여 문장을 정제를 하고 담아주세요\n",
    "    preprocessed_sentence = preprocess_sentence(sentence)\n",
    "    corpus.append(preprocessed_sentence)\n",
    "    \n",
    "# 정제된 결과를 10개만 확인해보죠\n",
    "corpus[:30]"
   ]
  },
  {
   "cell_type": "markdown",
   "id": "32858c64",
   "metadata": {},
   "source": [
    "텐서플로우를 통해 토근화하기: tf.keras.preprocessing.text.Tokenizer 패키지 사용!"
   ]
  },
  {
   "cell_type": "code",
   "execution_count": 40,
   "id": "83db18cf",
   "metadata": {},
   "outputs": [
    {
     "name": "stdout",
     "output_type": "stream",
     "text": [
      "[[   2   50    5 ...    0    0    0]\n",
      " [   2   17 2979 ...    0    0    0]\n",
      " [   2   32    7 ...    0    0    0]\n",
      " ...\n",
      " [   2  263  191 ...    0    0    0]\n",
      " [   2  129    5 ...    0    0    0]\n",
      " [   2    7   34 ...    0    0    0]] <keras_preprocessing.text.Tokenizer object at 0x7f0d8088bf70>\n"
     ]
    }
   ],
   "source": [
    "def tokenize(corpus):\n",
    "    # 7000단어를 기억할 수 있는 tokenizer를 만들겁니다\n",
    "    # 우리는 이미 문장을 정제했으니 filters가 필요없어요\n",
    "    # 7000단어에 포함되지 못한 단어는 '<unk>'로 바꿀거에요\n",
    "    tokenizer = tf.keras.preprocessing.text.Tokenizer(\n",
    "        num_words=30000, \n",
    "        filters=' ',\n",
    "        oov_token=\"<unk>\"\n",
    "    )\n",
    "    # corpus를 이용해 tokenizer 내부의 단어장을 완성합니다\n",
    "    # tokenizer.fit_on_texts(texts): 문자 데이터를 입력받아 리스트의 형태로 변환하는 메서드\n",
    "    tokenizer.fit_on_texts(corpus)\n",
    "    # 준비한 tokenizer를 이용해 corpus를 Tensor로 변환합니다\n",
    "    # tokenizer.texts_to_sequences(texts): 텍스트 안의 단어들을 숫자의 시퀀스 형태로 변환하는 메서드\n",
    "    tensor = tokenizer.texts_to_sequences(corpus)   \n",
    "    # 입력 데이터의 시퀀스 길이를 일정하게 맞춰줍니다\n",
    "    # 만약 시퀀스가 짧다면 문장 뒤에 패딩을 붙여 길이를 맞춰줍니다.\n",
    "    # 문장 앞에 패딩을 붙여 길이를 맞추고 싶다면 padding='pre'를 사용합니다\n",
    "    tensor = tf.keras.preprocessing.sequence.pad_sequences(tensor, padding='post')  \n",
    "    \n",
    "    print(tensor,tokenizer)\n",
    "    return tensor, tokenizer\n",
    "\n",
    "tensor, tokenizer = tokenize(corpus)"
   ]
  },
  {
   "cell_type": "code",
   "execution_count": 42,
   "id": "9a1f2b33",
   "metadata": {},
   "outputs": [
    {
     "name": "stdout",
     "output_type": "stream",
     "text": [
      "[[   2   50    5   91  304   62   57    9  952 6081    3    0    0    0\n",
      "     0    0    0    0    0    0]\n",
      " [   2   17 2979  888    4    8   11 6082    6  354    3    0    0    0\n",
      "     0    0    0    0    0    0]\n",
      " [   2   32    7   35   15  162  285   28  335    4   48    7   44    3\n",
      "     0    0    0    0    0    0]\n",
      " [   2   11  347   24   42    3    0    0    0    0    0    0    0    0\n",
      "     0    0    0    0    0    0]\n",
      " [   2    6 4735    4    6 2182    3    0    0    0    0    0    0    0\n",
      "     0    0    0    0    0    0]\n",
      " [   2    6 5650  297    4    6 1210  780    3    0    0    0    0    0\n",
      "     0    0    0    0    0    0]]\n"
     ]
    }
   ],
   "source": [
    "print(tensor[:6, :20])"
   ]
  },
  {
   "cell_type": "code",
   "execution_count": 44,
   "id": "14038e6f",
   "metadata": {},
   "outputs": [
    {
     "name": "stdout",
     "output_type": "stream",
     "text": [
      "1 : <unk>\n",
      "2 : <start>\n",
      "3 : <end>\n",
      "4 : ,\n",
      "5 : i\n",
      "6 : the\n",
      "7 : you\n",
      "8 : and\n",
      "9 : a\n",
      "10 : to\n",
      "11 : it\n",
      "12 : me\n",
      "13 : my\n",
      "14 : in\n",
      "15 : t\n"
     ]
    }
   ],
   "source": [
    "# tokenizer.index_word: 현재 계산된 단어의 인덱스와 인덱스에 해당하는 단어를 dictionary 형대로 반환 (Ex. {index: '~~', index: '~~', ...})\n",
    "for idx in tokenizer.index_word:\n",
    "    print(idx, \":\", tokenizer.index_word[idx])\n",
    "\n",
    "    if idx >= 15: break"
   ]
  },
  {
   "cell_type": "code",
   "execution_count": 50,
   "id": "1569f4e1",
   "metadata": {},
   "outputs": [
    {
     "name": "stdout",
     "output_type": "stream",
     "text": [
      "[   2   50    5   91  304   62   57    9  952 6081    3    0    0    0\n",
      "    0    0    0    0    0    0    0    0    0    0    0    0    0    0\n",
      "    0    0    0    0]\n",
      "[  50    5   91  304   62   57    9  952 6081    3    0    0    0    0\n",
      "    0    0    0    0    0    0    0    0    0    0    0    0    0    0\n",
      "    0    0    0    0]\n"
     ]
    }
   ],
   "source": [
    "# tensor에서 마지막 토큰을 잘라내서 소스 문장을 생성합니다\n",
    "# 마지막 토큰은 <end>가 아니라 <pad>일 가능성이 높습니다.\n",
    "src_input = tensor[:, :-1]  \n",
    "# tensor에서 <start>를 잘라내서 타겟 문장을 생성합니다.\n",
    "tgt_input = tensor[:, 1:]    \n",
    "\n",
    "print(src_input[0])\n",
    "print(tgt_input[0])"
   ]
  },
  {
   "cell_type": "markdown",
   "id": "8d1e9648",
   "metadata": {},
   "source": [
    "# Step 4. 평가 데이터셋 분리"
   ]
  },
  {
   "cell_type": "code",
   "execution_count": 52,
   "id": "ea8dcfe2",
   "metadata": {},
   "outputs": [],
   "source": [
    "from sklearn.model_selection import train_test_split\n",
    "enc_train, enc_val, dec_train, dec_val = train_test_split(src_input, \n",
    "                                                          tgt_input,\n",
    "                                                          test_size=0.2,\n",
    "                                                          shuffle=True, \n",
    "                                                          random_state=34)"
   ]
  },
  {
   "cell_type": "markdown",
   "id": "690d91a1",
   "metadata": {},
   "source": [
    "# Step 5. 인공지능 만들기"
   ]
  },
  {
   "cell_type": "code",
   "execution_count": 53,
   "id": "647633d0",
   "metadata": {},
   "outputs": [],
   "source": [
    "class TextGenerator(tf.keras.Model):\n",
    "    def __init__(self, vocab_size, embedding_size, hidden_size):\n",
    "        super().__init__()\n",
    "        # Embedding 레이어, 2개의 LSTM 레이어, 1개의 Dense 레이어로 구성되어 있다.\n",
    "        # Embedding 레이어는 단어 사전의 인덱스 값을 해당 인덱스 번째의 워드 벡터로 바꿔준다.\n",
    "        # 이 워드 벡터는 의미 벡터 공간에서 단어의 추상적 표현으로 사용된다. \n",
    "        self.embedding = tf.keras.layers.Embedding(vocab_size, embedding_size) \n",
    "        self.rnn_1 = tf.keras.layers.LSTM(hidden_size, return_sequences=True)  \n",
    "        self.rnn_2 = tf.keras.layers.LSTM(hidden_size, return_sequences=True)\n",
    "        self.linear = tf.keras.layers.Dense(vocab_size)\n",
    "        \n",
    "    def call(self, x):\n",
    "        out = self.embedding(x)\n",
    "        out = self.rnn_1(out)\n",
    "        out = self.rnn_2(out)\n",
    "        out = self.linear(out)\n",
    "        \n",
    "        return out\n",
    "# embedding size 값이 커질수록 단어의 추상적인 특징들을 더 잡아낼 수 있지만\n",
    "# 그만큼 충분한 데이터가 없으면 안좋은 결과 값을 가져옵니다!   \n",
    "embedding_size = 256 # 워드 벡터의 차원수를 말하며 단어가 추상적으로 표현되는 크기입니다.\n",
    "hidden_size = 1024 # 모델에 얼마나 많은 일꾼을 둘 것인가? 정도로 이해하면 좋다.\n",
    "model = TextGenerator(tokenizer.num_words + 1, embedding_size , hidden_size) # tokenizer.num_words에 +1인 이유는 문장에 없는 pad가 사용되었기 때문이다."
   ]
  },
  {
   "cell_type": "code",
   "execution_count": 54,
   "id": "70d5d807",
   "metadata": {},
   "outputs": [
    {
     "data": {
      "text/plain": [
       "<tf.Tensor: shape=(256, 32, 30001), dtype=float32, numpy=\n",
       "array([[[ 4.25245562e-05,  1.68452156e-04,  2.85241040e-05, ...,\n",
       "         -4.20618599e-05,  1.34339614e-04, -8.83120883e-05],\n",
       "        [ 5.96641694e-05,  2.92306649e-04,  9.02537722e-05, ...,\n",
       "         -6.26953042e-05,  2.74744176e-04, -5.60211847e-05],\n",
       "        [ 1.41660494e-04,  4.24206053e-04,  1.18559394e-04, ...,\n",
       "         -2.42329290e-04,  3.56027362e-04,  1.09993140e-04],\n",
       "        ...,\n",
       "        [ 3.90656805e-03,  5.89183073e-05, -1.90235884e-03, ...,\n",
       "         -8.97742575e-04, -2.32321932e-03, -1.52614783e-03],\n",
       "        [ 3.93960532e-03,  6.05030873e-05, -1.91302178e-03, ...,\n",
       "         -9.22284205e-04, -2.34282226e-03, -1.51063420e-03],\n",
       "        [ 3.96676734e-03,  6.13861848e-05, -1.92217820e-03, ...,\n",
       "         -9.42351180e-04, -2.35878886e-03, -1.49439764e-03]],\n",
       "\n",
       "       [[ 4.25245562e-05,  1.68452156e-04,  2.85241040e-05, ...,\n",
       "         -4.20618599e-05,  1.34339614e-04, -8.83120883e-05],\n",
       "        [ 9.41794569e-05,  4.28123516e-04, -3.35160512e-05, ...,\n",
       "         -2.79595552e-04,  9.84626749e-05, -1.12784190e-04],\n",
       "        [ 7.18928350e-05,  5.95203426e-04, -1.29458684e-04, ...,\n",
       "         -4.47795930e-04,  6.01893080e-05,  9.42658589e-05],\n",
       "        ...,\n",
       "        [ 3.98571743e-03,  5.01924405e-05, -1.93525071e-03, ...,\n",
       "         -9.68796550e-04, -2.36604083e-03, -1.46135688e-03],\n",
       "        [ 4.00739629e-03,  4.93816042e-05, -1.94031012e-03, ...,\n",
       "         -9.81931575e-04, -2.37554498e-03, -1.44965749e-03],\n",
       "        [ 4.02445951e-03,  4.86539248e-05, -1.94445497e-03, ...,\n",
       "         -9.91907786e-04, -2.38354248e-03, -1.43781654e-03]],\n",
       "\n",
       "       [[ 4.25245562e-05,  1.68452156e-04,  2.85241040e-05, ...,\n",
       "         -4.20618599e-05,  1.34339614e-04, -8.83120883e-05],\n",
       "        [ 3.46061097e-05,  2.48790631e-04,  8.17116161e-05, ...,\n",
       "         -1.74105517e-04,  1.08545719e-04, -1.42547971e-04],\n",
       "        [ 6.92749090e-05,  3.70051508e-04,  1.04008483e-04, ...,\n",
       "         -5.89500924e-05,  1.36582266e-05, -4.06774838e-04],\n",
       "        ...,\n",
       "        [ 3.92609648e-03,  6.31678195e-05, -1.93582219e-03, ...,\n",
       "         -9.09592025e-04, -2.34409305e-03, -1.47728052e-03],\n",
       "        [ 3.95651860e-03,  6.06553367e-05, -1.93870033e-03, ...,\n",
       "         -9.30613838e-04, -2.35479767e-03, -1.46323978e-03],\n",
       "        [ 3.98106081e-03,  5.85433045e-05, -1.94124656e-03, ...,\n",
       "         -9.47604189e-04, -2.36398657e-03, -1.44930102e-03]],\n",
       "\n",
       "       ...,\n",
       "\n",
       "       [[ 4.25245562e-05,  1.68452156e-04,  2.85241040e-05, ...,\n",
       "         -4.20618599e-05,  1.34339614e-04, -8.83120883e-05],\n",
       "        [ 7.80853152e-05,  3.62324819e-04,  6.10584830e-05, ...,\n",
       "         -1.42556455e-04, -6.68120992e-05, -2.81951652e-04],\n",
       "        [-5.60299486e-05,  3.00200743e-04,  1.60784024e-04, ...,\n",
       "         -1.29315638e-04, -1.92257750e-04, -4.32069472e-04],\n",
       "        ...,\n",
       "        [ 3.91285168e-03,  7.25767386e-05, -1.89380115e-03, ...,\n",
       "         -8.55000806e-04, -2.28227559e-03, -1.55078026e-03],\n",
       "        [ 3.94750154e-03,  7.01324097e-05, -1.90492289e-03, ...,\n",
       "         -8.86410999e-04, -2.30514724e-03, -1.53037382e-03],\n",
       "        [ 3.97534436e-03,  6.78131182e-05, -1.91441935e-03, ...,\n",
       "         -9.12453397e-04, -2.32441234e-03, -1.51017250e-03]],\n",
       "\n",
       "       [[ 4.25245562e-05,  1.68452156e-04,  2.85241040e-05, ...,\n",
       "         -4.20618599e-05,  1.34339614e-04, -8.83120883e-05],\n",
       "        [ 3.80346937e-05,  1.42485427e-04,  5.76216153e-05, ...,\n",
       "         -1.91442101e-04, -3.69887457e-05, -1.42810226e-04],\n",
       "        [ 3.59160731e-05,  1.51360211e-06,  5.00153646e-06, ...,\n",
       "         -3.40208237e-04, -2.16772642e-05, -1.32924572e-04],\n",
       "        ...,\n",
       "        [ 3.98181425e-03,  5.14317362e-05, -1.93360203e-03, ...,\n",
       "         -9.62449878e-04, -2.36271811e-03, -1.50310190e-03],\n",
       "        [ 4.00133571e-03,  5.30782745e-05, -1.93881185e-03, ...,\n",
       "         -9.77620599e-04, -2.37326953e-03, -1.48331677e-03],\n",
       "        [ 4.01685946e-03,  5.39155553e-05, -1.94329605e-03, ...,\n",
       "         -9.89137567e-04, -2.38186750e-03, -1.46468694e-03]],\n",
       "\n",
       "       [[ 4.25245562e-05,  1.68452156e-04,  2.85241040e-05, ...,\n",
       "         -4.20618599e-05,  1.34339614e-04, -8.83120883e-05],\n",
       "        [ 1.83495751e-04,  3.73366493e-04, -8.55207109e-05, ...,\n",
       "         -8.52480734e-05,  1.97007845e-04, -1.90077248e-04],\n",
       "        [ 2.43494462e-04,  5.65864844e-04, -1.35278111e-04, ...,\n",
       "         -1.74822912e-04, -4.52983841e-05, -3.89141991e-04],\n",
       "        ...,\n",
       "        [ 3.87140294e-03,  4.61274030e-05, -1.85364031e-03, ...,\n",
       "         -7.68595724e-04, -2.23462773e-03, -1.55555108e-03],\n",
       "        [ 3.91155854e-03,  4.72702995e-05, -1.87341822e-03, ...,\n",
       "         -8.16755928e-04, -2.26780493e-03, -1.54151779e-03],\n",
       "        [ 3.94439232e-03,  4.81126153e-05, -1.88978401e-03, ...,\n",
       "         -8.56863393e-04, -2.29521492e-03, -1.52553420e-03]]],\n",
       "      dtype=float32)>"
      ]
     },
     "execution_count": 54,
     "metadata": {},
     "output_type": "execute_result"
    }
   ],
   "source": [
    "# 데이터셋에서 데이터 한 배치만 불러오는 방법입니다.\n",
    "# 지금은 동작 원리에 너무 빠져들지 마세요~\n",
    "for src_sample, tgt_sample in dataset.take(1): break\n",
    "\n",
    "# 한 배치만 불러온 데이터를 모델에 넣어봅니다\n",
    "model(src_sample)\n",
    "\n",
    "'''출력결과 shape = (256, 32, 30001) 30001은 dense layer의 출력차원수  '''"
   ]
  },
  {
   "cell_type": "code",
   "execution_count": 55,
   "id": "990265a7",
   "metadata": {},
   "outputs": [
    {
     "name": "stdout",
     "output_type": "stream",
     "text": [
      "Model: \"text_generator\"\n",
      "_________________________________________________________________\n",
      "Layer (type)                 Output Shape              Param #   \n",
      "=================================================================\n",
      "embedding (Embedding)        multiple                  7680256   \n",
      "_________________________________________________________________\n",
      "lstm (LSTM)                  multiple                  5246976   \n",
      "_________________________________________________________________\n",
      "lstm_1 (LSTM)                multiple                  8392704   \n",
      "_________________________________________________________________\n",
      "dense (Dense)                multiple                  30751025  \n",
      "=================================================================\n",
      "Total params: 52,070,961\n",
      "Trainable params: 52,070,961\n",
      "Non-trainable params: 0\n",
      "_________________________________________________________________\n"
     ]
    }
   ],
   "source": [
    "model.summary()"
   ]
  },
  {
   "cell_type": "code",
   "execution_count": 57,
   "id": "9e9a7ecf",
   "metadata": {},
   "outputs": [
    {
     "name": "stdout",
     "output_type": "stream",
     "text": [
      "Epoch 1/10\n",
      "648/648 [==============================] - 477s 733ms/step - loss: 1.6002\n",
      "Epoch 2/10\n",
      "648/648 [==============================] - 480s 740ms/step - loss: 1.3595\n",
      "Epoch 3/10\n",
      "648/648 [==============================] - 480s 741ms/step - loss: 1.2434\n",
      "Epoch 4/10\n",
      "648/648 [==============================] - 479s 739ms/step - loss: 1.1426\n",
      "Epoch 5/10\n",
      "648/648 [==============================] - 480s 741ms/step - loss: 1.0558\n",
      "Epoch 6/10\n",
      "648/648 [==============================] - 480s 741ms/step - loss: 0.9777\n",
      "Epoch 7/10\n",
      "648/648 [==============================] - 480s 741ms/step - loss: 0.9110\n",
      "Epoch 8/10\n",
      "648/648 [==============================] - 480s 740ms/step - loss: 0.8523\n",
      "Epoch 9/10\n",
      "648/648 [==============================] - 479s 740ms/step - loss: 0.7994\n",
      "Epoch 10/10\n",
      "648/648 [==============================] - 478s 738ms/step - loss: 0.7529\n"
     ]
    },
    {
     "data": {
      "text/plain": [
       "<keras.callbacks.History at 0x7f0c103ef0a0>"
      ]
     },
     "execution_count": 57,
     "metadata": {},
     "output_type": "execute_result"
    }
   ],
   "source": [
    "# optimizer와 loss등은 차차 배웁니다\n",
    "# 혹시 미리 알고 싶다면 아래 문서를 참고하세요\n",
    "# https://www.tensorflow.org/api_docs/python/tf/keras/optimizers\n",
    "# https://www.tensorflow.org/api_docs/python/tf/keras/losses\n",
    "# 양이 상당히 많은 편이니 지금 보는 것은 추천하지 않습니다\n",
    "\n",
    "# Adam 알고리즘을 구현하는 optimzier이며 어떤 optimzier를 써야할지 모른다면 Adam을 쓰는 것도 방법이다.\n",
    "# 우리가 학습을 할 때 최대한 틀리지 않는 방향으로 학습을 해야한다.\n",
    "# 여기서 얼마나 틀리는지(loss)를 알게하는 함수가 손실함수 이다.\n",
    "# 이 손실함수의 최소값을 찾는 것을 학습의 목표로 하며 여기서 최소값을 찾아가는 과정을 optimization 이라하고\n",
    "# 이를 수행하는 알고리즘을 optimizer(최적화)라고 한다.\n",
    "\n",
    "optimizer = tf.keras.optimizers.Adam() # Adam은 현재 가장 많이 사용하는 옵티마이저이다. 자세한 내용은 차차 배운다.\n",
    "loss = tf.keras.losses.SparseCategoricalCrossentropy( # 훈련 데이터의 라벨이 정수의 형태로 제공될 때 사용하는 손실함수이다.\n",
    "    from_logits=True, # 기본값은 False이다. 모델에 의해 생성된 출력 값이 정규화되지 않았음을 손실 함수에 알려준다. 즉 softmax함수가 적용되지 않았다는걸 의미한다. \n",
    "    reduction='none'  # 기본값은 SUM이다. 각자 나오는 값의 반환 원할 때 None을 사용한다.\n",
    ")\n",
    "# 모델을 학습시키키 위한 학습과정을 설정하는 단계이다.\n",
    "model.compile(loss=loss, optimizer=optimizer) # 손실함수와 훈련과정을 설정했다.\n",
    "model.fit(dataset, epochs=10) # 만들어둔 데이터셋으로 모델을 학습한다. 10번 학습을 반복하겠다는 의미다."
   ]
  },
  {
   "cell_type": "code",
   "execution_count": 58,
   "id": "6fc3cc51",
   "metadata": {},
   "outputs": [],
   "source": [
    "#문장생성 함수 정의\n",
    "#모델에게 시작 문장을 전달하면 모델이 시작 문장을 바탕으로 작문을 진행\n",
    "def generate_text(model, tokenizer, init_sentence=\"<start>\", max_len=20): #시작 문자열을 init_sentence 로 받으며 디폴트값은 <start> 를 받는다\n",
    "    # 테스트를 위해서 입력받은 init_sentence도 텐서로 변환합니다\n",
    "    test_input = tokenizer.texts_to_sequences([init_sentence]) #텍스트 안의 단어들을 숫자의 시퀀스의 형태로 변환\n",
    "    test_tensor = tf.convert_to_tensor(test_input, dtype=tf.int64)\n",
    "    end_token = tokenizer.word_index[\"<end>\"]\n",
    "\n",
    "    # 단어 하나씩 예측해 문장을 만듭니다\n",
    "    #    1. 입력받은 문장의 텐서를 입력합니다\n",
    "    #    2. 예측된 값 중 가장 높은 확률인 word index를 뽑아냅니다\n",
    "    #    3. 2에서 예측된 word index를 문장 뒤에 붙입니다\n",
    "    #    4. 모델이 <end>를 예측했거나, max_len에 도달했다면 문장 생성을 마칩니다 (도달 하지 못하였으면 while 루프를 돌면서 다음 단어를 예측)\n",
    "    while True: #루프를 돌면서 init_sentence에 단어를 하나씩 생성성\n",
    "        # 1\n",
    "        predict = model(test_tensor) \n",
    "        # 2\n",
    "        predict_word = tf.argmax(tf.nn.softmax(predict, axis=-1), axis=-1)[:, -1] \n",
    "        # 3 \n",
    "        test_tensor = tf.concat([test_tensor, tf.expand_dims(predict_word, axis=0)], axis=-1)\n",
    "        # 4 \n",
    "        if predict_word.numpy()[0] == end_token: break\n",
    "        if test_tensor.shape[1] >= max_len: break\n",
    "\n",
    "    generated = \"\"\n",
    "    # tokenizer를 이용해 word index를 단어로 하나씩 변환합니다 \n",
    "    for word_index in test_tensor[0].numpy():\n",
    "        generated += tokenizer.index_word[word_index] + \" \"\n",
    "\n",
    "    return generated #최종적으로 모델이 생성한 문장을 반환"
   ]
  },
  {
   "cell_type": "code",
   "execution_count": 62,
   "id": "fda5bb05",
   "metadata": {},
   "outputs": [
    {
     "data": {
      "text/plain": [
       "'<start> i m a bad man <end> '"
      ]
     },
     "execution_count": 62,
     "metadata": {},
     "output_type": "execute_result"
    }
   ],
   "source": [
    "generate_text(model, tokenizer, init_sentence=\"<start> i \") # 시작문장으로 he를 넣어 문장생성 함수 실행"
   ]
  },
  {
   "cell_type": "code",
   "execution_count": null,
   "id": "3fd77567",
   "metadata": {},
   "outputs": [],
   "source": []
  },
  {
   "cell_type": "code",
   "execution_count": null,
   "id": "093a99a5",
   "metadata": {},
   "outputs": [],
   "source": []
  },
  {
   "cell_type": "code",
   "execution_count": null,
   "id": "bcac5f47",
   "metadata": {},
   "outputs": [],
   "source": []
  },
  {
   "cell_type": "code",
   "execution_count": null,
   "id": "07037fb5",
   "metadata": {},
   "outputs": [],
   "source": []
  },
  {
   "cell_type": "code",
   "execution_count": null,
   "id": "ef3b5bef",
   "metadata": {},
   "outputs": [],
   "source": []
  },
  {
   "cell_type": "code",
   "execution_count": null,
   "id": "17e62ed1",
   "metadata": {},
   "outputs": [],
   "source": []
  },
  {
   "cell_type": "code",
   "execution_count": null,
   "id": "cb880938",
   "metadata": {},
   "outputs": [],
   "source": []
  },
  {
   "cell_type": "code",
   "execution_count": null,
   "id": "59cbaeed",
   "metadata": {},
   "outputs": [],
   "source": []
  },
  {
   "cell_type": "code",
   "execution_count": null,
   "id": "88f7980d",
   "metadata": {},
   "outputs": [],
   "source": []
  },
  {
   "cell_type": "code",
   "execution_count": null,
   "id": "6c6091bf",
   "metadata": {},
   "outputs": [],
   "source": []
  },
  {
   "cell_type": "code",
   "execution_count": null,
   "id": "50b48310",
   "metadata": {},
   "outputs": [],
   "source": []
  },
  {
   "cell_type": "code",
   "execution_count": null,
   "id": "431c6c4d",
   "metadata": {},
   "outputs": [],
   "source": []
  },
  {
   "cell_type": "code",
   "execution_count": null,
   "id": "3003e7c4",
   "metadata": {},
   "outputs": [],
   "source": []
  },
  {
   "cell_type": "code",
   "execution_count": null,
   "id": "5f85378a",
   "metadata": {},
   "outputs": [],
   "source": []
  },
  {
   "cell_type": "code",
   "execution_count": null,
   "id": "45c2f681",
   "metadata": {},
   "outputs": [],
   "source": []
  }
 ],
 "metadata": {
  "kernelspec": {
   "display_name": "Python 3 (ipykernel)",
   "language": "python",
   "name": "python3"
  },
  "language_info": {
   "codemirror_mode": {
    "name": "ipython",
    "version": 3
   },
   "file_extension": ".py",
   "mimetype": "text/x-python",
   "name": "python",
   "nbconvert_exporter": "python",
   "pygments_lexer": "ipython3",
   "version": "3.9.7"
  }
 },
 "nbformat": 4,
 "nbformat_minor": 5
}
