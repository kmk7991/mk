{
 "cells": [
  {
   "cell_type": "markdown",
   "id": "5a0b70dd",
   "metadata": {},
   "source": [
    "# 라이브러리 버전 확인"
   ]
  },
  {
   "cell_type": "code",
   "execution_count": 157,
   "id": "0d8378af",
   "metadata": {},
   "outputs": [],
   "source": [
    "import os\n",
    "import re\n",
    "import pandas as pd\n",
    "import numpy as np\n",
    "\n",
    "import urllib.request\n",
    "import matplotlib.pyplot as plt\n",
    "%matplotlib inline\n",
    "\n",
    "from tensorflow.keras.initializers import Constant\n",
    "from tensorflow.keras.callbacks import EarlyStopping, ModelCheckpoint\n",
    "from tensorflow.keras.models import load_model\n",
    "from konlpy.tag import Okt\n",
    "from konlpy.tag import Mecab\n",
    "from collections import Counter\n",
    "from tensorflow import keras\n",
    "from tensorflow.keras.preprocessing.text import Tokenizer\n",
    "from tensorflow.keras.preprocessing.sequence import pad_sequences\n",
    "import gensim\n",
    "from gensim.models import KeyedVectors\n",
    "from gensim.models.keyedvectors import Word2VecKeyedVectors"
   ]
  },
  {
   "cell_type": "markdown",
   "id": "777e3e07",
   "metadata": {},
   "source": [
    "# 데이터 준비와 확인"
   ]
  },
  {
   "cell_type": "code",
   "execution_count": 2,
   "id": "5fd1eb9d",
   "metadata": {},
   "outputs": [
    {
     "data": {
      "text/html": [
       "<div>\n",
       "<style scoped>\n",
       "    .dataframe tbody tr th:only-of-type {\n",
       "        vertical-align: middle;\n",
       "    }\n",
       "\n",
       "    .dataframe tbody tr th {\n",
       "        vertical-align: top;\n",
       "    }\n",
       "\n",
       "    .dataframe thead th {\n",
       "        text-align: right;\n",
       "    }\n",
       "</style>\n",
       "<table border=\"1\" class=\"dataframe\">\n",
       "  <thead>\n",
       "    <tr style=\"text-align: right;\">\n",
       "      <th></th>\n",
       "      <th>id</th>\n",
       "      <th>document</th>\n",
       "      <th>label</th>\n",
       "    </tr>\n",
       "  </thead>\n",
       "  <tbody>\n",
       "    <tr>\n",
       "      <th>0</th>\n",
       "      <td>9976970</td>\n",
       "      <td>아 더빙.. 진짜 짜증나네요 목소리</td>\n",
       "      <td>0</td>\n",
       "    </tr>\n",
       "    <tr>\n",
       "      <th>1</th>\n",
       "      <td>3819312</td>\n",
       "      <td>흠...포스터보고 초딩영화줄....오버연기조차 가볍지 않구나</td>\n",
       "      <td>1</td>\n",
       "    </tr>\n",
       "    <tr>\n",
       "      <th>2</th>\n",
       "      <td>10265843</td>\n",
       "      <td>너무재밓었다그래서보는것을추천한다</td>\n",
       "      <td>0</td>\n",
       "    </tr>\n",
       "    <tr>\n",
       "      <th>3</th>\n",
       "      <td>9045019</td>\n",
       "      <td>교도소 이야기구먼 ..솔직히 재미는 없다..평점 조정</td>\n",
       "      <td>0</td>\n",
       "    </tr>\n",
       "    <tr>\n",
       "      <th>4</th>\n",
       "      <td>6483659</td>\n",
       "      <td>사이몬페그의 익살스런 연기가 돋보였던 영화!스파이더맨에서 늙어보이기만 했던 커스틴 ...</td>\n",
       "      <td>1</td>\n",
       "    </tr>\n",
       "  </tbody>\n",
       "</table>\n",
       "</div>"
      ],
      "text/plain": [
       "         id                                           document  label\n",
       "0   9976970                                아 더빙.. 진짜 짜증나네요 목소리      0\n",
       "1   3819312                  흠...포스터보고 초딩영화줄....오버연기조차 가볍지 않구나      1\n",
       "2  10265843                                  너무재밓었다그래서보는것을추천한다      0\n",
       "3   9045019                      교도소 이야기구먼 ..솔직히 재미는 없다..평점 조정      0\n",
       "4   6483659  사이몬페그의 익살스런 연기가 돋보였던 영화!스파이더맨에서 늙어보이기만 했던 커스틴 ...      1"
      ]
     },
     "execution_count": 2,
     "metadata": {},
     "output_type": "execute_result"
    }
   ],
   "source": [
    "\n",
    "# 데이터를 읽어봅시다. \n",
    "train_data = pd.read_table('~/aiffel/sentiment_classification/data/ratings_train.txt')\n",
    "test_data = pd.read_table('~/aiffel/sentiment_classification/data/ratings_test.txt')\n",
    "\n",
    "train_data.head()"
   ]
  },
  {
   "cell_type": "markdown",
   "id": "548c6e91",
   "metadata": {},
   "source": [
    "# 데이터로더 구성"
   ]
  },
  {
   "cell_type": "code",
   "execution_count": 4,
   "id": "1cc02b37",
   "metadata": {},
   "outputs": [],
   "source": [
    "from konlpy.tag import Mecab\n",
    "import numpy as np\n",
    "from collections import Counter\n",
    "\n",
    "tokenizer = Mecab()\n",
    "stopwords = ['의','가','이','은','들','는','좀','잘','걍','과','도','를','으로','자','에','와','한','하다']\n",
    "\n",
    "def load_data(train_data, test_data, num_words=10000):\n",
    "    # [[YOUR CODE]]\n",
    "    train_data.drop_duplicates(subset=['document'], inplace=True)\n",
    "    train_data = train_data.dropna(how = 'any') \n",
    "    test_data.drop_duplicates(subset=['document'], inplace=True)\n",
    "    test_data = test_data.dropna(how = 'any') \n",
    "\n",
    "    X_train = []\n",
    "    for sentence in train_data['document']:\n",
    "        temp_X = tokenizer.morphs(sentence)\n",
    "        temp_X = [word for word in temp_X if not word in stopwords]\n",
    "        X_train.append(temp_X)\n",
    "\n",
    "    X_test = []\n",
    "    for sentence in test_data['document']:\n",
    "        temp_X = tokenizer.morphs(sentence)\n",
    "        temp_X = [word for word in temp_X if not word in stopwords]\n",
    "        X_test.append(temp_X)\n",
    "\n",
    "    words = np.concatenate(X_train).tolist()\n",
    "    counter = Counter(words)\n",
    "    counter = counter.most_common(10000-4)\n",
    "    vocab = ['<PAD>', '<BOS>', '<UNK>', '<UNUSED>'] + [key for key, _ in counter]\n",
    "    word_to_index = {word:index for index, word in enumerate(vocab)}\n",
    "\n",
    "    def wordlist_to_indexlist(wordlist):\n",
    "        return [word_to_index[word] if word in word_to_index else word_to_index['<UNK>'] for word in wordlist]\n",
    "\n",
    "    X_train = list(map(wordlist_to_indexlist, X_train))\n",
    "    X_test = list(map(wordlist_to_indexlist, X_test))\n",
    "\n",
    "    return X_train, np.array(list(train_data['label'])), X_test, np.array(list(test_data['label'])), word_to_index\n",
    "X_train, y_train, X_test, y_test, word_to_index = load_data(train_data, test_data)"
   ]
  },
  {
   "cell_type": "code",
   "execution_count": 5,
   "id": "ff029f7b",
   "metadata": {},
   "outputs": [],
   "source": [
    "index_to_word = {index:word for word, index in word_to_index.items()}"
   ]
  },
  {
   "cell_type": "code",
   "execution_count": 6,
   "id": "28051e5e",
   "metadata": {},
   "outputs": [],
   "source": [
    "def get_encoded_sentence(sentence, word_to_index):\n",
    "    return [word_to_index['<BOS>']]+[word_to_index[word] if word in word_to_index else word_to_index['<UNK>'] for word in sentence.split()]\n",
    "\n",
    "def get_encoded_sentences(sentences, word_to_index):\n",
    "    return [get_encoded_sentence(sentence, word_to_index) for sentence in sentences]\n",
    "\n",
    "def get_decoded_sentence(encoded_sentence, index_to_word):\n",
    "    return ' '.join(index_to_word[index] if index in index_to_word else '<UNK>' for index in encoded_sentence[1:])  #[1:]를 통해 <BOS>를 제외\n",
    "\n",
    "def get_decoded_sentences(encoded_sentences, index_to_word):\n",
    "    return [get_decoded_sentence(encoded_sentence, index_to_word) for encoded_sentence in encoded_sentences]"
   ]
  },
  {
   "cell_type": "markdown",
   "id": "a4d5daa9",
   "metadata": {},
   "source": [
    "# 모델 구성을 위한 데이터 분석 및 가공"
   ]
  },
  {
   "cell_type": "code",
   "execution_count": 7,
   "id": "68be35fe",
   "metadata": {},
   "outputs": [
    {
     "name": "stdout",
     "output_type": "stream",
     "text": [
      "문장길이 평균 :  15.96940191154864\n",
      "문장길이 최대 :  116\n",
      "문장길이 표준편차 :  12.843571191092\n"
     ]
    }
   ],
   "source": [
    "# 데이터셋 내 문장 길이 분포\n",
    "total_data_text = list(X_train) + list(X_test)\n",
    "\n",
    "num_tokens = [len(tokens) for tokens in total_data_text]\n",
    "num_tokens = np.array(num_tokens)\n",
    "\n",
    "print('문장길이 평균 : ', np.mean(num_tokens))\n",
    "print('문장길이 최대 : ', np.max(num_tokens))\n",
    "print('문장길이 표준편차 : ', np.std(num_tokens))"
   ]
  },
  {
   "cell_type": "code",
   "execution_count": 8,
   "id": "6c2841ce",
   "metadata": {},
   "outputs": [
    {
     "name": "stdout",
     "output_type": "stream",
     "text": [
      "pad_sequences maxlen :  48\n",
      "전체 문장의 0.9548784420929768%가 maxlen 설정값 이내에 포함됩니다. \n"
     ]
    }
   ],
   "source": [
    "# 적절한 최대 문장 길이 지정\n",
    "max_tokens = np.mean(num_tokens) + 2.5 * np.std(num_tokens)\n",
    "maxlen = int(max_tokens)\n",
    "print('pad_sequences maxlen : ', maxlen)\n",
    "print('전체 문장의 {}%가 maxlen 설정값 이내에 포함됩니다. '.format(np.sum(num_tokens < max_tokens) / len(num_tokens)))"
   ]
  },
  {
   "cell_type": "code",
   "execution_count": 9,
   "id": "68012041",
   "metadata": {},
   "outputs": [],
   "source": [
    "\n",
    "# keras.preprocessing.sequence.pad_sequences 을 활용한 패딩 추가\n",
    "X_train = keras.preprocessing.sequence.pad_sequences(X_train,\n",
    "                                                        value=word_to_index[\"<PAD>\"],\n",
    "                                                        padding='pre',\n",
    "                                                        maxlen=maxlen)\n",
    "\n",
    "X_test = keras.preprocessing.sequence.pad_sequences(X_test,\n",
    "                                                       value=word_to_index[\"<PAD>\"],\n",
    "                                                       padding='pre',\n",
    "                                                       maxlen=maxlen)"
   ]
  },
  {
   "cell_type": "code",
   "execution_count": null,
   "id": "d8a16923",
   "metadata": {},
   "outputs": [],
   "source": []
  },
  {
   "cell_type": "markdown",
   "id": "c1af8800",
   "metadata": {},
   "source": [
    "# 모델 구성 및 validation set 구성"
   ]
  },
  {
   "cell_type": "code",
   "execution_count": 10,
   "id": "b424627a",
   "metadata": {},
   "outputs": [],
   "source": [
    "\n",
    "x_val = X_train[:20000]   \n",
    "y_val = y_train[:20000]\n",
    "\n",
    "# validation set을 제외한 나머지\n",
    "partial_x_train = X_train[20000:]  \n",
    "partial_y_train = y_train[20000:]"
   ]
  },
  {
   "cell_type": "code",
   "execution_count": null,
   "id": "9e3651bb",
   "metadata": {},
   "outputs": [],
   "source": []
  },
  {
   "cell_type": "markdown",
   "id": "b990f33a",
   "metadata": {},
   "source": [
    "# 모델 훈련 개시 - LSTM"
   ]
  },
  {
   "cell_type": "code",
   "execution_count": 11,
   "id": "1b318b7d",
   "metadata": {
    "scrolled": true
   },
   "outputs": [
    {
     "name": "stdout",
     "output_type": "stream",
     "text": [
      "Model: \"sequential\"\n",
      "_________________________________________________________________\n",
      "Layer (type)                 Output Shape              Param #   \n",
      "=================================================================\n",
      "embedding (Embedding)        (None, None, 128)         1280000   \n",
      "_________________________________________________________________\n",
      "lstm (LSTM)                  (None, 128)               131584    \n",
      "_________________________________________________________________\n",
      "dense (Dense)                (None, 1)                 129       \n",
      "=================================================================\n",
      "Total params: 1,411,713\n",
      "Trainable params: 1,411,713\n",
      "Non-trainable params: 0\n",
      "_________________________________________________________________\n"
     ]
    }
   ],
   "source": [
    "vocab_size = 10000\n",
    "word_vector_dim = 128\n",
    "\n",
    "LSTM_ = keras.Sequential()\n",
    "LSTM_.add(keras.layers.Embedding(vocab_size, word_vector_dim, input_shape=(None,)))\n",
    "LSTM_.add(keras.layers.LSTM(128))\n",
    "LSTM_.add(keras.layers.Dense(1, activation='sigmoid'))\n",
    "LSTM_.summary()"
   ]
  },
  {
   "cell_type": "code",
   "execution_count": 12,
   "id": "fbdffe2f",
   "metadata": {},
   "outputs": [],
   "source": [
    "LSTM_.compile(optimizer='adam',\n",
    "              loss='binary_crossentropy',\n",
    "              metrics=['accuracy'])"
   ]
  },
  {
   "cell_type": "code",
   "execution_count": 13,
   "id": "4cc15a68",
   "metadata": {},
   "outputs": [],
   "source": [
    "early = EarlyStopping(monitor='val_loss', mode='min', verbose=1, patience=5)\n",
    "check = ModelCheckpoint('best_model.h5', monitor='val_acc', mode='max', verbose=1, save_bast_only=True)"
   ]
  },
  {
   "cell_type": "code",
   "execution_count": 14,
   "id": "dcfaa621",
   "metadata": {},
   "outputs": [
    {
     "name": "stdout",
     "output_type": "stream",
     "text": [
      "Epoch 1/20\n",
      "3944/3944 [==============================] - 25s 6ms/step - loss: 0.3631 - accuracy: 0.8390 - val_loss: 0.3192 - val_accuracy: 0.8620\n",
      "\n",
      "Epoch 00001: saving model to best_model.h5\n",
      "Epoch 2/20\n",
      "3944/3944 [==============================] - 22s 6ms/step - loss: 0.2787 - accuracy: 0.8823 - val_loss: 0.3091 - val_accuracy: 0.8676\n",
      "\n",
      "Epoch 00002: saving model to best_model.h5\n",
      "Epoch 3/20\n",
      "3944/3944 [==============================] - 22s 6ms/step - loss: 0.2358 - accuracy: 0.9030 - val_loss: 0.3192 - val_accuracy: 0.8678\n",
      "\n",
      "Epoch 00003: saving model to best_model.h5\n",
      "Epoch 4/20\n",
      "3944/3944 [==============================] - 22s 6ms/step - loss: 0.1965 - accuracy: 0.9211 - val_loss: 0.3442 - val_accuracy: 0.8620\n",
      "\n",
      "Epoch 00004: saving model to best_model.h5\n",
      "Epoch 5/20\n",
      "3944/3944 [==============================] - 22s 6ms/step - loss: 0.1597 - accuracy: 0.9368 - val_loss: 0.3847 - val_accuracy: 0.8630\n",
      "\n",
      "Epoch 00005: saving model to best_model.h5\n",
      "Epoch 6/20\n",
      "3944/3944 [==============================] - 22s 6ms/step - loss: 0.1274 - accuracy: 0.9507 - val_loss: 0.4239 - val_accuracy: 0.8593\n",
      "\n",
      "Epoch 00006: saving model to best_model.h5\n",
      "Epoch 7/20\n",
      "3944/3944 [==============================] - 22s 6ms/step - loss: 0.1010 - accuracy: 0.9613 - val_loss: 0.5060 - val_accuracy: 0.8521\n",
      "\n",
      "Epoch 00007: saving model to best_model.h5\n",
      "Epoch 00007: early stopping\n"
     ]
    }
   ],
   "source": [
    "LSTM_history = LSTM_.fit(partial_x_train,\n",
    "                    partial_y_train,\n",
    "                    epochs=20,\n",
    "                    callbacks=[early, check],\n",
    "                    batch_size=32,\n",
    "                    validation_data=(x_val, y_val),\n",
    "                    verbose=1)"
   ]
  },
  {
   "cell_type": "code",
   "execution_count": 15,
   "id": "d9aa19e3",
   "metadata": {},
   "outputs": [
    {
     "name": "stdout",
     "output_type": "stream",
     "text": [
      "1537/1537 - 4s - loss: 0.5070 - accuracy: 0.8500\n",
      "[0.5070101022720337, 0.8500315546989441]\n"
     ]
    }
   ],
   "source": [
    "loaded_model = load_model('best_model.h5')\n",
    "results = loaded_model.evaluate(X_test,  y_test, verbose=2)\n",
    "\n",
    "print(results)"
   ]
  },
  {
   "cell_type": "markdown",
   "id": "38cf7f21",
   "metadata": {},
   "source": [
    "#  Loss, Accuracy 그래프 시각화"
   ]
  },
  {
   "cell_type": "code",
   "execution_count": 16,
   "id": "faa17ee7",
   "metadata": {},
   "outputs": [
    {
     "data": {
      "image/png": "[encoded data removed]",
      "text/plain": [
       "<Figure size 432x288 with 1 Axes>"
      ]
     },
     "metadata": {
      "needs_background": "light"
     },
     "output_type": "display_data"
    }
   ],
   "source": [
    "LSTM_history_dict = LSTM_history.history\n",
    "acc = LSTM_history_dict['accuracy']\n",
    "val_acc = LSTM_history_dict['val_accuracy']\n",
    "loss = LSTM_history_dict['loss']\n",
    "val_loss = LSTM_history_dict['val_loss']\n",
    "\n",
    "epochs = range(1, len(acc) + 1)\n",
    "\n",
    "plt.plot(epochs, loss, 'bo', label='Training loss')\n",
    "plt.plot(epochs, val_loss, 'b', label='Validation loss')\n",
    "plt.title('Training and validation loss')\n",
    "plt.xlabel('Epochs')\n",
    "plt.ylabel('Loss')\n",
    "plt.legend()\n",
    "\n",
    "plt.show()"
   ]
  },
  {
   "cell_type": "code",
   "execution_count": 17,
   "id": "1d62f30c",
   "metadata": {},
   "outputs": [
    {
     "data": {
      "image/png": "[encoded data removed]",
      "text/plain": [
       "<Figure size 432x288 with 1 Axes>"
      ]
     },
     "metadata": {
      "needs_background": "light"
     },
     "output_type": "display_data"
    }
   ],
   "source": [
    "plt.clf()\n",
    "\n",
    "plt.plot(epochs, acc, 'bo', label='Training acc')\n",
    "plt.plot(epochs, val_acc, 'b', label='Validation acc')\n",
    "plt.title('Training and validation accuracy')\n",
    "plt.xlabel('Epochs')\n",
    "plt.ylabel('Accuracy')\n",
    "plt.legend()\n",
    "\n",
    "plt.show()"
   ]
  },
  {
   "cell_type": "markdown",
   "id": "b6e99141",
   "metadata": {},
   "source": [
    "# 학습된 Embedding 레이어 분석"
   ]
  },
  {
   "cell_type": "code",
   "execution_count": 18,
   "id": "55f39c43",
   "metadata": {},
   "outputs": [
    {
     "name": "stdout",
     "output_type": "stream",
     "text": [
      "(10000, 128)\n"
     ]
    }
   ],
   "source": [
    "embedding_layer = LSTM_.layers[0]\n",
    "weights = embedding_layer.get_weights()[0]\n",
    "print(weights.shape)"
   ]
  },
  {
   "cell_type": "code",
   "execution_count": 20,
   "id": "725faff0",
   "metadata": {},
   "outputs": [
    {
     "data": {
      "text/plain": [
       "array([ 0.07617019, -0.06024291, -0.13287221, -0.16275209, -0.02542715,\n",
       "        0.02228842,  0.1978102 ,  0.05959954, -0.22555318, -0.09787603,\n",
       "        0.07416858, -0.33354527,  0.02462749,  0.01689578,  0.13821465,\n",
       "       -0.00061071,  0.12270303,  0.13865067,  0.02995373, -0.22553198,\n",
       "       -0.09742033, -0.0812258 ,  0.04407963,  0.22939949,  0.00081855,\n",
       "       -0.01818942, -0.12126928, -0.02962148, -0.07552838, -0.22581922,\n",
       "        0.03173481,  0.20780964, -0.09264218, -0.00936599,  0.01049715,\n",
       "        0.16604188,  0.27480403,  0.03680809,  0.13428807, -0.05505793,\n",
       "       -0.3014152 ,  0.08498043,  0.138511  , -0.01532526, -0.05507532,\n",
       "       -0.09752958,  0.0189063 , -0.00389729,  0.18533733, -0.0170551 ,\n",
       "        0.18847637,  0.04880574,  0.08692499, -0.09745834,  0.01343251,\n",
       "       -0.06265919,  0.30496255, -0.07583974,  0.05996573,  0.1028078 ,\n",
       "        0.30630115,  0.06399857,  0.13250867, -0.03931529, -0.19052556,\n",
       "       -0.01225637, -0.04521476, -0.2710471 ,  0.07288661, -0.02128428,\n",
       "        0.05679388,  0.06174079,  0.00948346,  0.00203636,  0.0531922 ,\n",
       "       -0.10542057, -0.09745234, -0.03461478, -0.01360923, -0.09778162,\n",
       "       -0.11920896,  0.08055517, -0.03375585, -0.07002293,  0.11716062,\n",
       "        0.26187044,  0.17047301,  0.19362187, -0.06343538,  0.15022686,\n",
       "       -0.06739318,  0.12820274, -0.10636964,  0.09753042, -0.2129879 ,\n",
       "       -0.00330031,  0.05705796,  0.17341118,  0.13066924, -0.10221402,\n",
       "       -0.17400225, -0.07673016, -0.02413163,  0.10727792, -0.25040117,\n",
       "       -0.0998031 , -0.02296595, -0.10618936, -0.23442076, -0.06748172,\n",
       "       -0.00614886,  0.17506957, -0.32165593,  0.04860225,  0.28810552,\n",
       "       -0.03732588, -0.21409471, -0.42710927, -0.09750151, -0.12956089,\n",
       "        0.02429528,  0.05803526,  0.1603125 ,  0.00794814,  0.02565728,\n",
       "       -0.00427384, -0.12729685, -0.17731644], dtype=float32)"
      ]
     },
     "execution_count": 20,
     "metadata": {},
     "output_type": "execute_result"
    }
   ],
   "source": [
    "word2vec_file_path = os.getenv('HOME')+'/aiffel/sentiment_classification/LSTMword2vec.txt'\n",
    "f = open(word2vec_file_path, 'w')\n",
    "f.write('{} {}\\n'.format(vocab_size-4, word_vector_dim))\n",
    "\n",
    "vectors = LSTM_.get_weights()[0]\n",
    "for i in range(4,vocab_size):\n",
    "    f.write('{} {}\\n'.format(index_to_word[i], ' '.join(map(str, list(vectors[i, :])))))\n",
    "f.close()\n",
    "\n",
    "word_vectors = Word2VecKeyedVectors.load_word2vec_format(word2vec_file_path, binary=False)\n",
    "vector = word_vectors['끝']\n",
    "vector"
   ]
  },
  {
   "cell_type": "code",
   "execution_count": 21,
   "id": "031a7588",
   "metadata": {},
   "outputs": [
    {
     "data": {
      "text/plain": [
       "[('려는지', 0.7059453725814819),\n",
       " ('침몰', 0.6921941041946411),\n",
       " ('잠', 0.6866409182548523),\n",
       " ('잣', 0.6719169616699219),\n",
       " ('산', 0.6705135703086853),\n",
       " ('그렇', 0.6696851849555969),\n",
       " ('귀신', 0.6637470722198486),\n",
       " ('명성', 0.6584715247154236),\n",
       " ('에다', 0.6560390591621399),\n",
       " ('부처', 0.6546027660369873)]"
      ]
     },
     "execution_count": 21,
     "metadata": {},
     "output_type": "execute_result"
    }
   ],
   "source": [
    "word_vectors.similar_by_word(\"끝\")"
   ]
  },
  {
   "cell_type": "markdown",
   "id": "b3373184",
   "metadata": {},
   "source": [
    "# 한국어 Word2Vec 임베딩 활용하여 성능 개선"
   ]
  },
  {
   "cell_type": "code",
   "execution_count": 87,
   "id": "59295635",
   "metadata": {},
   "outputs": [],
   "source": [
    "from gensim.models import Word2Vec\n",
    "from gensim.models.keyedvectors import Word2VecKeyedVectors\n",
    "import os\n",
    "\n",
    "# 한국어 Word2Vec 사용\n",
    "word2vec_path = os.getenv('HOME')+'/data/word2vec_ko.model'\n",
    "word_vectors = Word2VecKeyedVectors.load(word2vec_path)\n",
    "vector = word_vectors.wv['끝']"
   ]
  },
  {
   "cell_type": "code",
   "execution_count": 97,
   "id": "17f47771",
   "metadata": {
    "scrolled": false
   },
   "outputs": [
    {
     "data": {
      "text/plain": [
       "[('마지막', 0.6325399875640869),\n",
       " ('결판', 0.5526015758514404),\n",
       " ('발목', 0.5465342402458191),\n",
       " ('산산조각', 0.5418900847434998),\n",
       " ('막바지', 0.5412753820419312),\n",
       " ('싫증', 0.5256820917129517),\n",
       " ('양쪽', 0.5253474116325378),\n",
       " ('무릎', 0.5246764421463013),\n",
       " ('후', 0.5051813721656799),\n",
       " ('이어진', 0.5038793087005615)]"
      ]
     },
     "execution_count": 97,
     "metadata": {},
     "output_type": "execute_result"
    }
   ],
   "source": [
    "word_vectors.wv.similar_by_word('끝')"
   ]
  },
  {
   "cell_type": "code",
   "execution_count": 105,
   "id": "0e136707",
   "metadata": {
    "scrolled": true
   },
   "outputs": [
    {
     "name": "stdout",
     "output_type": "stream",
     "text": [
      "embedding_matrix.shape:  (10000, 100)\n"
     ]
    }
   ],
   "source": [
    "vocab_size = vocab_size\n",
    "word_vector_dim = word_vectors.wv.vectors.shape[1]\n",
    "\n",
    "embedding_matrix = np.random.rand(vocab_size, word_vector_dim)\n",
    "print('embedding_matrix.shape: ', embedding_matrix.shape)"
   ]
  },
  {
   "cell_type": "code",
   "execution_count": 106,
   "id": "6fc3daa8",
   "metadata": {},
   "outputs": [],
   "source": [
    "for i in range(4,vocab_size):\n",
    "    if index_to_word[i] in word_vectors.wv:\n",
    "        embedding_matrix[i] = word_vectors.wv[index_to_word[i]]"
   ]
  },
  {
   "cell_type": "code",
   "execution_count": 109,
   "id": "5dd5a4dd",
   "metadata": {},
   "outputs": [],
   "source": [
    "vocab_size = 10000\n",
    "word_vector_dim = 100\n",
    "\n",
    "LSTM_ko = keras.Sequential()\n",
    "LSTM_ko.add(keras.layers.Embedding(vocab_size, \n",
    "                                 word_vector_dim, \n",
    "                                 embeddings_initializer=Constant(embedding_matrix),\n",
    "                                 input_length=maxlen, \n",
    "                                 trainable=True))\n",
    "LSTM_ko.add(keras.layers.LSTM(64))\n",
    "LSTM_ko.add(keras.layers.Dense(256, activation='relu'))\n",
    "LSTM_ko.add(keras.layers.Dense(1, activation='sigmoid'))"
   ]
  },
  {
   "cell_type": "code",
   "execution_count": 110,
   "id": "3b3720e4",
   "metadata": {},
   "outputs": [
    {
     "name": "stdout",
     "output_type": "stream",
     "text": [
      "Model: \"sequential_5\"\n",
      "_________________________________________________________________\n",
      "Layer (type)                 Output Shape              Param #   \n",
      "=================================================================\n",
      "embedding_4 (Embedding)      (None, 48, 100)           1000000   \n",
      "_________________________________________________________________\n",
      "lstm_1 (LSTM)                (None, 64)                42240     \n",
      "_________________________________________________________________\n",
      "dense_3 (Dense)              (None, 256)               16640     \n",
      "_________________________________________________________________\n",
      "dense_4 (Dense)              (None, 1)                 257       \n",
      "=================================================================\n",
      "Total params: 1,059,137\n",
      "Trainable params: 1,059,137\n",
      "Non-trainable params: 0\n",
      "_________________________________________________________________\n"
     ]
    }
   ],
   "source": [
    "LSTM_ko.summary()"
   ]
  },
  {
   "cell_type": "code",
   "execution_count": 111,
   "id": "13960eff",
   "metadata": {},
   "outputs": [],
   "source": [
    "LSTM_ko.compile(optimizer='adam',\n",
    "              loss='binary_crossentropy',\n",
    "              metrics=['accuracy'])"
   ]
  },
  {
   "cell_type": "code",
   "execution_count": 116,
   "id": "e427fd17",
   "metadata": {},
   "outputs": [],
   "source": [
    "ealry_ko = EarlyStopping(monitor='val_loss', mode='min', verbose=1, patience=5)\n",
    "check_ko = ModelCheckpoint('best', monitor='val_acc', mode='max', verbose=1, save_bast_only=True)"
   ]
  },
  {
   "cell_type": "code",
   "execution_count": 113,
   "id": "ffbb8e00",
   "metadata": {},
   "outputs": [
    {
     "name": "stdout",
     "output_type": "stream",
     "text": [
      "Epoch 1/20\n",
      "3944/3944 [==============================] - 22s 5ms/step - loss: 0.3971 - accuracy: 0.8175 - val_loss: 0.3379 - val_accuracy: 0.8540\n",
      "\n",
      "Epoch 00001: saving model to best_model_ko.h5\n",
      "Epoch 2/20\n",
      "3944/3944 [==============================] - 20s 5ms/step - loss: 0.3043 - accuracy: 0.8695 - val_loss: 0.3159 - val_accuracy: 0.8636\n",
      "\n",
      "Epoch 00002: saving model to best_model_ko.h5\n",
      "Epoch 3/20\n",
      "3944/3944 [==============================] - 20s 5ms/step - loss: 0.2676 - accuracy: 0.8877 - val_loss: 0.3272 - val_accuracy: 0.8621\n",
      "\n",
      "Epoch 00003: saving model to best_model_ko.h5\n",
      "Epoch 4/20\n",
      "3944/3944 [==============================] - 20s 5ms/step - loss: 0.2396 - accuracy: 0.9013 - val_loss: 0.3222 - val_accuracy: 0.8667\n",
      "\n",
      "Epoch 00004: saving model to best_model_ko.h5\n",
      "Epoch 5/20\n",
      "3944/3944 [==============================] - 20s 5ms/step - loss: 0.2120 - accuracy: 0.9139 - val_loss: 0.3498 - val_accuracy: 0.8652\n",
      "\n",
      "Epoch 00005: saving model to best_model_ko.h5\n",
      "Epoch 6/20\n",
      "3944/3944 [==============================] - 20s 5ms/step - loss: 0.1853 - accuracy: 0.9253 - val_loss: 0.3637 - val_accuracy: 0.8614\n",
      "\n",
      "Epoch 00006: saving model to best_model_ko.h5\n",
      "Epoch 7/20\n",
      "3944/3944 [==============================] - 20s 5ms/step - loss: 0.1591 - accuracy: 0.9368 - val_loss: 0.3934 - val_accuracy: 0.8590\n",
      "\n",
      "Epoch 00007: saving model to best_model_ko.h5\n",
      "Epoch 00007: early stopping\n"
     ]
    }
   ],
   "source": [
    "history = LSTM_ko.fit(partial_x_train,\n",
    "                    partial_y_train,\n",
    "                    epochs=20,\n",
    "                    callbacks=[ealry_ko, check_ko],\n",
    "                    batch_size=32,\n",
    "                    validation_data=(x_val, y_val),\n",
    "                    verbose=1)"
   ]
  },
  {
   "cell_type": "code",
   "execution_count": 118,
   "id": "7ca3c11a",
   "metadata": {},
   "outputs": [
    {
     "name": "stdout",
     "output_type": "stream",
     "text": [
      "1537/1537 - 4s - loss: 0.3962 - accuracy: 0.8568\n",
      "[0.39624127745628357, 0.8568260669708252]\n"
     ]
    }
   ],
   "source": [
    "loaded_model = load_model('best_model_ko.h5')\n",
    "results = loaded_model.evaluate(X_test,  y_test, verbose=2)\n",
    "\n",
    "print(results)"
   ]
  },
  {
   "cell_type": "markdown",
   "id": "40033993",
   "metadata": {},
   "source": [
    "# LSTM 에서 정확도 85프로 넘음!"
   ]
  },
  {
   "cell_type": "markdown",
   "id": "064fba9d",
   "metadata": {},
   "source": [
    "# 다른 모델로 학습2 - conv1d"
   ]
  },
  {
   "cell_type": "code",
   "execution_count": 119,
   "id": "1267be0e",
   "metadata": {},
   "outputs": [],
   "source": [
    "vocab_size = 10000\n",
    "word_vector_dim = 64\n",
    "\n",
    "conv1d_model = keras.Sequential()\n",
    "conv1d_model.add(keras.layers.Embedding(vocab_size, word_vector_dim, input_shape=(None,)))\n",
    "conv1d_model.add(keras.layers.Conv1D(64, 7, activation='relu'))\n",
    "conv1d_model.add(keras.layers.MaxPooling1D(5))\n",
    "conv1d_model.add(keras.layers.Conv1D(64, 7, activation='relu'))\n",
    "conv1d_model.add(keras.layers.GlobalMaxPooling1D())\n",
    "conv1d_model.add(keras.layers.Dense(128, activation='relu'))\n",
    "conv1d_model.add(keras.layers.Dense(1, activation='sigmoid'))"
   ]
  },
  {
   "cell_type": "code",
   "execution_count": 120,
   "id": "3b5d7236",
   "metadata": {},
   "outputs": [
    {
     "name": "stdout",
     "output_type": "stream",
     "text": [
      "Model: \"sequential_6\"\n",
      "_________________________________________________________________\n",
      "Layer (type)                 Output Shape              Param #   \n",
      "=================================================================\n",
      "embedding_5 (Embedding)      (None, None, 64)          640000    \n",
      "_________________________________________________________________\n",
      "conv1d_2 (Conv1D)            (None, None, 64)          28736     \n",
      "_________________________________________________________________\n",
      "max_pooling1d_1 (MaxPooling1 (None, None, 64)          0         \n",
      "_________________________________________________________________\n",
      "conv1d_3 (Conv1D)            (None, None, 64)          28736     \n",
      "_________________________________________________________________\n",
      "global_max_pooling1d_1 (Glob (None, 64)                0         \n",
      "_________________________________________________________________\n",
      "dense_5 (Dense)              (None, 128)               8320      \n",
      "_________________________________________________________________\n",
      "dense_6 (Dense)              (None, 1)                 129       \n",
      "=================================================================\n",
      "Total params: 705,921\n",
      "Trainable params: 705,921\n",
      "Non-trainable params: 0\n",
      "_________________________________________________________________\n"
     ]
    }
   ],
   "source": [
    "conv1d_model.summary()"
   ]
  },
  {
   "cell_type": "code",
   "execution_count": 121,
   "id": "f89ec242",
   "metadata": {},
   "outputs": [],
   "source": [
    "conv1d_model.compile(optimizer='adam',\n",
    "              loss='binary_crossentropy',\n",
    "              metrics=['accuracy'])"
   ]
  },
  {
   "cell_type": "code",
   "execution_count": 122,
   "id": "41aa34a8",
   "metadata": {},
   "outputs": [
    {
     "name": "stdout",
     "output_type": "stream",
     "text": [
      "Epoch 1/10\n",
      "3944/3944 [==============================] - 20s 5ms/step - loss: 0.4081 - accuracy: 0.8064 - val_loss: 0.3654 - val_accuracy: 0.8313\n",
      "Epoch 2/10\n",
      "3944/3944 [==============================] - 18s 4ms/step - loss: 0.3100 - accuracy: 0.8617 - val_loss: 0.3653 - val_accuracy: 0.8357\n",
      "Epoch 3/10\n",
      "3944/3944 [==============================] - 18s 4ms/step - loss: 0.2336 - accuracy: 0.8986 - val_loss: 0.3994 - val_accuracy: 0.8251\n",
      "Epoch 4/10\n",
      "3944/3944 [==============================] - 18s 4ms/step - loss: 0.1680 - accuracy: 0.9282 - val_loss: 0.4903 - val_accuracy: 0.8255\n",
      "Epoch 5/10\n",
      "3944/3944 [==============================] - 18s 5ms/step - loss: 0.1281 - accuracy: 0.9440 - val_loss: 0.6200 - val_accuracy: 0.8166\n",
      "Epoch 6/10\n",
      "3944/3944 [==============================] - 18s 5ms/step - loss: 0.1044 - accuracy: 0.9536 - val_loss: 0.6741 - val_accuracy: 0.8144\n",
      "Epoch 7/10\n",
      "3944/3944 [==============================] - 18s 4ms/step - loss: 0.0897 - accuracy: 0.9599 - val_loss: 0.7843 - val_accuracy: 0.8156\n",
      "Epoch 8/10\n",
      "3944/3944 [==============================] - 18s 5ms/step - loss: 0.0781 - accuracy: 0.9643 - val_loss: 0.8123 - val_accuracy: 0.8130\n",
      "Epoch 9/10\n",
      "3944/3944 [==============================] - 18s 5ms/step - loss: 0.0701 - accuracy: 0.9670 - val_loss: 0.8933 - val_accuracy: 0.8117\n",
      "Epoch 10/10\n",
      "3944/3944 [==============================] - 18s 4ms/step - loss: 0.0635 - accuracy: 0.9696 - val_loss: 0.9955 - val_accuracy: 0.8058\n"
     ]
    }
   ],
   "source": [
    "conv1d_history = conv1d_model.fit(partial_x_train,\n",
    "                    partial_y_train,\n",
    "                    epochs=10,\n",
    "                    batch_size=32,\n",
    "                    validation_data=(x_val, y_val),\n",
    "                    verbose=1)"
   ]
  },
  {
   "cell_type": "markdown",
   "id": "5f045e9d",
   "metadata": {},
   "source": [
    "# conv1d시각화 하기"
   ]
  },
  {
   "cell_type": "code",
   "execution_count": 124,
   "id": "b0b85c88",
   "metadata": {},
   "outputs": [
    {
     "data": {
      "image/png": "[encoded data removed]",
      "text/plain": [
       "<Figure size 432x288 with 1 Axes>"
      ]
     },
     "metadata": {
      "needs_background": "light"
     },
     "output_type": "display_data"
    }
   ],
   "source": [
    "conv1d_history_dict = conv1d_history.history\n",
    "\n",
    "acc = conv1d_history_dict['accuracy']\n",
    "val_acc = conv1d_history_dict['val_accuracy']\n",
    "loss = conv1d_history_dict['loss']\n",
    "val_loss = conv1d_history_dict['val_loss']\n",
    "\n",
    "epochs = range(1, len(acc) + 1)\n",
    "\n",
    "plt.plot(epochs, loss, 'bo', label='Training loss')\n",
    "plt.plot(epochs, val_loss, 'b', label='Validation loss')\n",
    "plt.title('Training and validation loss')\n",
    "plt.xlabel('Epochs')\n",
    "plt.ylabel('Loss')\n",
    "plt.legend()\n",
    "\n",
    "plt.show()"
   ]
  },
  {
   "cell_type": "code",
   "execution_count": 125,
   "id": "72ca8e72",
   "metadata": {},
   "outputs": [
    {
     "data": {
      "image/png": "[encoded data removed]",
      "text/plain": [
       "<Figure size 432x288 with 1 Axes>"
      ]
     },
     "metadata": {
      "needs_background": "light"
     },
     "output_type": "display_data"
    }
   ],
   "source": [
    "plt.clf()\n",
    "\n",
    "plt.plot(epochs, acc, 'bo', label='Training acc')\n",
    "plt.plot(epochs, val_acc, 'b', label='Validation acc')\n",
    "plt.title('Training and validation accuracy')\n",
    "plt.xlabel('Epochs')\n",
    "plt.ylabel('Accuracy')\n",
    "plt.legend()\n",
    "\n",
    "plt.show()"
   ]
  },
  {
   "cell_type": "markdown",
   "id": "532d76a5",
   "metadata": {},
   "source": [
    "# 임베딩 레이어 확인"
   ]
  },
  {
   "cell_type": "code",
   "execution_count": 126,
   "id": "93bae8f2",
   "metadata": {},
   "outputs": [
    {
     "name": "stdout",
     "output_type": "stream",
     "text": [
      "(10000, 64)\n"
     ]
    }
   ],
   "source": [
    "embedding_layer = conv1d_model.layers[0]\n",
    "weights = embedding_layer.get_weights()[0]\n",
    "print(weights.shape)"
   ]
  },
  {
   "cell_type": "code",
   "execution_count": 127,
   "id": "e8a91c1c",
   "metadata": {},
   "outputs": [],
   "source": [
    "word2vec_file_path = os.getenv('HOME')+'/aiffel/sentiment_classification/conv1d_word2vec.txt'\n",
    "f = open(word2vec_file_path, 'w')\n",
    "f.write('{} {}\\n'.format(vocab_size-4, word_vector_dim))\n",
    "\n",
    "vectors = conv1d_model.get_weights()[0]\n",
    "for i in range(4,vocab_size):\n",
    "    f.write('{} {}\\n'.format(index_to_word[i], ' '.join(map(str, list(vectors[i, :])))))\n",
    "f.close()"
   ]
  },
  {
   "cell_type": "code",
   "execution_count": 128,
   "id": "ac487f73",
   "metadata": {},
   "outputs": [
    {
     "data": {
      "text/plain": [
       "array([ 0.16039523, -0.21353234,  0.10053949,  0.0617637 ,  0.2400047 ,\n",
       "        0.26146755,  0.22837314, -0.10810944,  0.10463615, -0.02049661,\n",
       "       -0.04041705, -0.17160086, -0.06882595, -0.167664  , -0.06566158,\n",
       "       -0.08431412,  0.03558896, -0.0332323 ,  0.01976864,  0.02681297,\n",
       "       -0.08923274,  0.25031778,  0.08020499,  0.40995952, -0.18464011,\n",
       "        0.01875813,  0.04290253, -0.07847054, -0.26605442,  0.11327574,\n",
       "       -0.09676535, -0.06215183, -0.09975547, -0.10650266, -0.19519675,\n",
       "       -0.10930956, -0.13824074, -0.11634096,  0.0882811 , -0.0992004 ,\n",
       "        0.01642582, -0.12949279,  0.06588767, -0.00688476, -0.02480588,\n",
       "       -0.2815041 , -0.00276024,  0.14318605, -0.04096439, -0.19097587,\n",
       "        0.20809348, -0.05446141, -0.05613462,  0.09021642,  0.20740879,\n",
       "        0.03693626,  0.30877876,  0.12369863, -0.17847647,  0.05291033,\n",
       "        0.10100688,  0.03643023,  0.14495873,  0.3603014 ], dtype=float32)"
      ]
     },
     "execution_count": 128,
     "metadata": {},
     "output_type": "execute_result"
    }
   ],
   "source": [
    "word_vectors = Word2VecKeyedVectors.load_word2vec_format(word2vec_file_path, binary=False)\n",
    "vector = word_vectors['끝']\n",
    "vector"
   ]
  },
  {
   "cell_type": "code",
   "execution_count": 129,
   "id": "500bfc2f",
   "metadata": {},
   "outputs": [
    {
     "data": {
      "text/plain": [
       "[('남편', 0.4832385778427124),\n",
       " ('킬러', 0.45728790760040283),\n",
       " ('맡', 0.45511457324028015),\n",
       " ('수입', 0.4423467218875885),\n",
       " ('로얄', 0.4383450150489807),\n",
       " ('불편', 0.3992714285850525),\n",
       " ('겄', 0.39129000902175903),\n",
       " ('당위', 0.3911603093147278),\n",
       " ('같잖', 0.3879825174808502),\n",
       " ('천녀', 0.3876078724861145)]"
      ]
     },
     "execution_count": 129,
     "metadata": {},
     "output_type": "execute_result"
    }
   ],
   "source": [
    "word_vectors.similar_by_word(\"끝\")"
   ]
  },
  {
   "cell_type": "markdown",
   "id": "8bcbb9d2",
   "metadata": {},
   "source": [
    "> 끝과 관련없는 단어들이 나오는듯"
   ]
  },
  {
   "cell_type": "markdown",
   "id": "132315b5",
   "metadata": {},
   "source": [
    "# conv1d 한국어 word2vec"
   ]
  },
  {
   "cell_type": "code",
   "execution_count": 134,
   "id": "fa01789b",
   "metadata": {},
   "outputs": [],
   "source": [
    "vocab_size = 10000\n",
    "word_vector_dim = 100\n",
    "\n",
    "conv1d_model_ko = keras.Sequential()\n",
    "conv1d_model_ko.add(keras.layers.Embedding(vocab_size, \n",
    "                                 word_vector_dim, \n",
    "                                 embeddings_initializer=Constant(embedding_matrix),\n",
    "                                 input_length=maxlen, \n",
    "                                 trainable=True))\n",
    "conv1d_model_ko.add(keras.layers.Conv1D(64, 7, activation='relu'))\n",
    "conv1d_model_ko.add(keras.layers.MaxPooling1D(5))\n",
    "conv1d_model_ko.add(keras.layers.Conv1D(64, 7, activation='relu'))\n",
    "conv1d_model_ko.add(keras.layers.GlobalMaxPooling1D())\n",
    "conv1d_model_ko.add(keras.layers.Dense(128, activation='relu'))\n",
    "conv1d_model_ko.add(keras.layers.Dense(1, activation='sigmoid'))\n",
    "conv1d_model_ko = keras.Sequential()\n",
    "conv1d_model_ko.add(keras.layers.Embedding(vocab_size, \n",
    "                                 word_vector_dim, \n",
    "                                 embeddings_initializer=Constant(embedding_matrix),\n",
    "                                 input_length=maxlen, \n",
    "                                 trainable=True))\n",
    "conv1d_model_ko.add(keras.layers.Conv1D(64, 7, activation='relu'))\n",
    "conv1d_model_ko.add(keras.layers.MaxPooling1D(5))\n",
    "conv1d_model_ko.add(keras.layers.Conv1D(64, 7, activation='relu'))\n",
    "conv1d_model_ko.add(keras.layers.GlobalMaxPooling1D())\n",
    "conv1d_model_ko.add(keras.layers.Dense(128, activation='relu'))\n",
    "conv1d_model_ko.add(keras.layers.Dense(1, activation='sigmoid'))"
   ]
  },
  {
   "cell_type": "code",
   "execution_count": 135,
   "id": "284270e0",
   "metadata": {},
   "outputs": [
    {
     "name": "stdout",
     "output_type": "stream",
     "text": [
      "Model: \"sequential_10\"\n",
      "_________________________________________________________________\n",
      "Layer (type)                 Output Shape              Param #   \n",
      "=================================================================\n",
      "embedding_9 (Embedding)      (None, 48, 100)           1000000   \n",
      "_________________________________________________________________\n",
      "conv1d_6 (Conv1D)            (None, 42, 64)            44864     \n",
      "_________________________________________________________________\n",
      "max_pooling1d_3 (MaxPooling1 (None, 8, 64)             0         \n",
      "_________________________________________________________________\n",
      "conv1d_7 (Conv1D)            (None, 2, 64)             28736     \n",
      "_________________________________________________________________\n",
      "global_max_pooling1d_3 (Glob (None, 64)                0         \n",
      "_________________________________________________________________\n",
      "dense_9 (Dense)              (None, 128)               8320      \n",
      "_________________________________________________________________\n",
      "dense_10 (Dense)             (None, 1)                 129       \n",
      "=================================================================\n",
      "Total params: 1,082,049\n",
      "Trainable params: 1,082,049\n",
      "Non-trainable params: 0\n",
      "_________________________________________________________________\n"
     ]
    }
   ],
   "source": [
    "conv1d_model_ko.summary()"
   ]
  },
  {
   "cell_type": "code",
   "execution_count": 136,
   "id": "15af8b5e",
   "metadata": {},
   "outputs": [],
   "source": [
    "conv1d_model_ko.compile(optimizer='adam',\n",
    "              loss='binary_crossentropy',\n",
    "              metrics=['accuracy'])"
   ]
  },
  {
   "cell_type": "code",
   "execution_count": 137,
   "id": "bc9fed57",
   "metadata": {},
   "outputs": [
    {
     "name": "stdout",
     "output_type": "stream",
     "text": [
      "Epoch 1/10\n",
      "3944/3944 [==============================] - 19s 5ms/step - loss: 0.6934 - accuracy: 0.5023 - val_loss: 0.6931 - val_accuracy: 0.5030\n",
      "Epoch 2/10\n",
      "3944/3944 [==============================] - 18s 5ms/step - loss: 0.6932 - accuracy: 0.4980 - val_loss: 0.6931 - val_accuracy: 0.5030\n",
      "Epoch 3/10\n",
      "3944/3944 [==============================] - 18s 5ms/step - loss: 0.6932 - accuracy: 0.5013 - val_loss: 0.6932 - val_accuracy: 0.4970\n",
      "Epoch 4/10\n",
      "3944/3944 [==============================] - 18s 5ms/step - loss: 0.6932 - accuracy: 0.5003 - val_loss: 0.6931 - val_accuracy: 0.5030\n",
      "Epoch 5/10\n",
      "3944/3944 [==============================] - 18s 5ms/step - loss: 0.6932 - accuracy: 0.5000 - val_loss: 0.6931 - val_accuracy: 0.5030\n",
      "Epoch 6/10\n",
      "3944/3944 [==============================] - 18s 5ms/step - loss: 0.6932 - accuracy: 0.5008 - val_loss: 0.6931 - val_accuracy: 0.5030\n",
      "Epoch 7/10\n",
      "3944/3944 [==============================] - 18s 5ms/step - loss: 0.6932 - accuracy: 0.4996 - val_loss: 0.6932 - val_accuracy: 0.4970\n",
      "Epoch 8/10\n",
      "3944/3944 [==============================] - 18s 5ms/step - loss: 0.6932 - accuracy: 0.4990 - val_loss: 0.6931 - val_accuracy: 0.5030\n",
      "Epoch 9/10\n",
      "3944/3944 [==============================] - 18s 5ms/step - loss: 0.6932 - accuracy: 0.4992 - val_loss: 0.6931 - val_accuracy: 0.5030\n",
      "Epoch 10/10\n",
      "3944/3944 [==============================] - 18s 5ms/step - loss: 0.6932 - accuracy: 0.4991 - val_loss: 0.6932 - val_accuracy: 0.4970\n"
     ]
    }
   ],
   "source": [
    "history = conv1d_model_ko.fit(partial_x_train,\n",
    "                    partial_y_train,\n",
    "                    epochs=10,\n",
    "                    batch_size=32,\n",
    "                    validation_data=(x_val, y_val),\n",
    "                    verbose=1)"
   ]
  },
  {
   "cell_type": "code",
   "execution_count": 139,
   "id": "4b452b46",
   "metadata": {},
   "outputs": [
    {
     "name": "stdout",
     "output_type": "stream",
     "text": [
      "1537/1537 - 3s - loss: 0.6931 - accuracy: 0.5027\n",
      "[0.6931345462799072, 0.5026954412460327]\n"
     ]
    }
   ],
   "source": [
    "results = conv1d_model_ko.evaluate(X_test,  y_test, verbose=2)\n",
    "\n",
    "print(results)"
   ]
  },
  {
   "cell_type": "markdown",
   "id": "75bc1a07",
   "metadata": {},
   "source": [
    "# 다른모델로 학습 - GlobalMaxPooling"
   ]
  },
  {
   "cell_type": "code",
   "execution_count": 140,
   "id": "adbc2275",
   "metadata": {},
   "outputs": [],
   "source": [
    "vocab_size = 10000\n",
    "word_vector_dim = 64\n",
    "\n",
    "GMP_model = keras.Sequential()\n",
    "GMP_model.add(keras.layers.Embedding(vocab_size, word_vector_dim, input_shape=(None,)))\n",
    "GMP_model.add(keras.layers.GlobalMaxPooling1D())\n",
    "GMP_model.add(keras.layers.Dense(8, activation='relu'))\n",
    "GMP_model.add(keras.layers.Dense(1, activation='sigmoid'))"
   ]
  },
  {
   "cell_type": "code",
   "execution_count": 141,
   "id": "ef8c940d",
   "metadata": {},
   "outputs": [
    {
     "name": "stdout",
     "output_type": "stream",
     "text": [
      "Model: \"sequential_12\"\n",
      "_________________________________________________________________\n",
      "Layer (type)                 Output Shape              Param #   \n",
      "=================================================================\n",
      "embedding_11 (Embedding)     (None, None, 64)          640000    \n",
      "_________________________________________________________________\n",
      "global_max_pooling1d_5 (Glob (None, 64)                0         \n",
      "_________________________________________________________________\n",
      "dense_13 (Dense)             (None, 8)                 520       \n",
      "_________________________________________________________________\n",
      "dense_14 (Dense)             (None, 1)                 9         \n",
      "=================================================================\n",
      "Total params: 640,529\n",
      "Trainable params: 640,529\n",
      "Non-trainable params: 0\n",
      "_________________________________________________________________\n"
     ]
    }
   ],
   "source": [
    "GMP_model.summary()\n"
   ]
  },
  {
   "cell_type": "code",
   "execution_count": 142,
   "id": "fdf2baa4",
   "metadata": {},
   "outputs": [],
   "source": [
    "GMP_model.compile(optimizer='adam',\n",
    "              loss='binary_crossentropy',\n",
    "              metrics=['accuracy'])"
   ]
  },
  {
   "cell_type": "code",
   "execution_count": 143,
   "id": "4460f62e",
   "metadata": {},
   "outputs": [
    {
     "name": "stdout",
     "output_type": "stream",
     "text": [
      "Epoch 1/10\n",
      "3944/3944 [==============================] - 12s 3ms/step - loss: 0.3883 - accuracy: 0.8271 - val_loss: 0.3407 - val_accuracy: 0.8491\n",
      "Epoch 2/10\n",
      "3944/3944 [==============================] - 12s 3ms/step - loss: 0.3028 - accuracy: 0.8729 - val_loss: 0.3399 - val_accuracy: 0.8529\n",
      "Epoch 3/10\n",
      "3944/3944 [==============================] - 12s 3ms/step - loss: 0.2621 - accuracy: 0.8925 - val_loss: 0.3461 - val_accuracy: 0.8530\n",
      "Epoch 4/10\n",
      "3944/3944 [==============================] - 12s 3ms/step - loss: 0.2275 - accuracy: 0.9088 - val_loss: 0.3637 - val_accuracy: 0.8536\n",
      "Epoch 5/10\n",
      "3944/3944 [==============================] - 12s 3ms/step - loss: 0.1967 - accuracy: 0.9235 - val_loss: 0.3883 - val_accuracy: 0.8533\n",
      "Epoch 6/10\n",
      "3944/3944 [==============================] - 12s 3ms/step - loss: 0.1690 - accuracy: 0.9358 - val_loss: 0.4162 - val_accuracy: 0.8462\n",
      "Epoch 7/10\n",
      "3944/3944 [==============================] - 12s 3ms/step - loss: 0.1446 - accuracy: 0.9459 - val_loss: 0.4594 - val_accuracy: 0.8451\n",
      "Epoch 8/10\n",
      "3944/3944 [==============================] - 13s 3ms/step - loss: 0.1229 - accuracy: 0.9546 - val_loss: 0.5231 - val_accuracy: 0.8395\n",
      "Epoch 9/10\n",
      "3944/3944 [==============================] - 13s 3ms/step - loss: 0.1044 - accuracy: 0.9617 - val_loss: 0.5758 - val_accuracy: 0.8368\n",
      "Epoch 10/10\n",
      "3944/3944 [==============================] - 12s 3ms/step - loss: 0.0885 - accuracy: 0.9678 - val_loss: 0.6332 - val_accuracy: 0.8374\n"
     ]
    }
   ],
   "source": [
    "GMP_history = GMP_model.fit(partial_x_train,\n",
    "                    partial_y_train,\n",
    "                    epochs=10,\n",
    "                    batch_size=32,\n",
    "                    validation_data=(x_val, y_val),\n",
    "                    verbose=1)"
   ]
  },
  {
   "cell_type": "code",
   "execution_count": 144,
   "id": "e0817608",
   "metadata": {},
   "outputs": [
    {
     "name": "stdout",
     "output_type": "stream",
     "text": [
      "1537/1537 - 2s - loss: 0.6252 - accuracy: 0.8320\n",
      "[0.6252012848854065, 0.832007646560669]\n"
     ]
    }
   ],
   "source": [
    "results = GMP_model.evaluate(X_test,  y_test, verbose=2)\n",
    "\n",
    "print(results)"
   ]
  },
  {
   "cell_type": "markdown",
   "id": "cada671f",
   "metadata": {},
   "source": [
    "# GlobalMaxPooling 시각화하기"
   ]
  },
  {
   "cell_type": "code",
   "execution_count": 145,
   "id": "35ee4db0",
   "metadata": {},
   "outputs": [
    {
     "data": {
      "image/png": "[encoded data removed]",
      "text/plain": [
       "<Figure size 432x288 with 1 Axes>"
      ]
     },
     "metadata": {
      "needs_background": "light"
     },
     "output_type": "display_data"
    }
   ],
   "source": [
    "GMP_history_dict = GMP_history.history\n",
    "\n",
    "acc = GMP_history_dict['accuracy']\n",
    "val_acc = GMP_history_dict['val_accuracy']\n",
    "loss = GMP_history_dict['loss']\n",
    "val_loss = GMP_history_dict['val_loss']\n",
    "\n",
    "epochs = range(1, len(acc) + 1)\n",
    "\n",
    "plt.plot(epochs, loss, 'bo', label='Training loss')\n",
    "plt.plot(epochs, val_loss, 'b', label='Validation loss')\n",
    "plt.title('Training and validation loss')\n",
    "plt.xlabel('Epochs')\n",
    "plt.ylabel('Loss')\n",
    "plt.legend()\n",
    "\n",
    "plt.show()"
   ]
  },
  {
   "cell_type": "code",
   "execution_count": 146,
   "id": "c2ccdc3a",
   "metadata": {},
   "outputs": [
    {
     "data": {
      "image/png": "[encoded data removed]",
      "text/plain": [
       "<Figure size 432x288 with 1 Axes>"
      ]
     },
     "metadata": {
      "needs_background": "light"
     },
     "output_type": "display_data"
    }
   ],
   "source": [
    "plt.clf()\n",
    "\n",
    "plt.plot(epochs, acc, 'bo', label='Training acc')\n",
    "plt.plot(epochs, val_acc, 'b', label='Validation acc')\n",
    "plt.title('Training and validation accuracy')\n",
    "plt.xlabel('Epochs')\n",
    "plt.ylabel('Accuracy')\n",
    "plt.legend()\n",
    "\n",
    "plt.show()"
   ]
  },
  {
   "cell_type": "markdown",
   "id": "efd79965",
   "metadata": {},
   "source": [
    "# 임베딩 레이어 확인"
   ]
  },
  {
   "cell_type": "code",
   "execution_count": 147,
   "id": "a3a12911",
   "metadata": {},
   "outputs": [
    {
     "name": "stdout",
     "output_type": "stream",
     "text": [
      "(10000, 64)\n"
     ]
    }
   ],
   "source": [
    "embedding_layer = GMP_model.layers[0]\n",
    "weights = embedding_layer.get_weights()[0]\n",
    "print(weights.shape)"
   ]
  },
  {
   "cell_type": "code",
   "execution_count": 148,
   "id": "3145672a",
   "metadata": {},
   "outputs": [],
   "source": [
    "word2vec_file_path = os.getenv('HOME')+'/aiffel/sentiment_classification/GMP_word2vec.txt'\n",
    "f = open(word2vec_file_path, 'w')\n",
    "f.write('{} {}\\n'.format(vocab_size-4, word_vector_dim))\n",
    "\n",
    "vectors = GMP_model.get_weights()[0]\n",
    "for i in range(4,vocab_size):\n",
    "    f.write('{} {}\\n'.format(index_to_word[i], ' '.join(map(str, list(vectors[i, :])))))\n",
    "f.close()"
   ]
  },
  {
   "cell_type": "code",
   "execution_count": 149,
   "id": "b754d43d",
   "metadata": {},
   "outputs": [
    {
     "data": {
      "text/plain": [
       "array([-0.10244824, -0.28594005,  0.11942941, -0.28585786, -0.1497088 ,\n",
       "        0.18949145,  0.04420587,  0.18005057, -0.17507936, -0.06566776,\n",
       "       -0.11658733, -0.3035672 , -0.06402057,  0.05386945,  0.19411184,\n",
       "       -0.26252908,  0.40122387, -0.30099767,  0.00256908,  0.14115205,\n",
       "       -0.3358133 , -0.08131809, -0.26120603, -0.23069729,  0.1376882 ,\n",
       "        0.04416883, -0.1907152 , -0.22638771, -0.27925807, -0.2570674 ,\n",
       "       -0.06754725,  0.03859064,  0.1085866 ,  0.06907428,  0.34949356,\n",
       "       -0.25189197, -0.14682236, -0.17351991, -0.12339093, -0.0733835 ,\n",
       "       -0.27116162, -0.2620234 , -0.24622717, -0.3250539 , -0.20248803,\n",
       "       -0.23745978,  0.18299411, -0.21263902, -0.27675757, -0.10166692,\n",
       "       -0.34334803, -0.23566402, -0.08478175, -0.19778241, -0.25496563,\n",
       "       -0.04225265, -0.17496586, -0.11705191, -0.31119093, -0.21275844,\n",
       "       -0.1111219 , -0.29632914, -0.19299945, -0.34695885], dtype=float32)"
      ]
     },
     "execution_count": 149,
     "metadata": {},
     "output_type": "execute_result"
    }
   ],
   "source": [
    "word_vectors = Word2VecKeyedVectors.load_word2vec_format(word2vec_file_path, binary=False)\n",
    "vector = word_vectors['끝']\n",
    "vector"
   ]
  },
  {
   "cell_type": "code",
   "execution_count": 150,
   "id": "77ec4ea1",
   "metadata": {},
   "outputs": [
    {
     "data": {
      "text/plain": [
       "[('객관', 0.6718366742134094),\n",
       " ('자아', 0.6569578647613525),\n",
       " ('까지', 0.6337772011756897),\n",
       " ('_', 0.6262025237083435),\n",
       " ('니', 0.6233547925949097),\n",
       " ('흑백', 0.6221472024917603),\n",
       " ('이거', 0.6214049458503723),\n",
       " ('성장', 0.6165032982826233),\n",
       " ('떄', 0.6043305397033691),\n",
       " ('고', 0.6023388504981995)]"
      ]
     },
     "execution_count": 150,
     "metadata": {},
     "output_type": "execute_result"
    }
   ],
   "source": [
    "word_vectors.similar_by_word(\"끝\")"
   ]
  },
  {
   "cell_type": "markdown",
   "id": "9405dac9",
   "metadata": {},
   "source": [
    "> 얘도 끝이랑 관련없는 단어들이 나옴"
   ]
  },
  {
   "cell_type": "markdown",
   "id": "2853f309",
   "metadata": {},
   "source": [
    "# 한국어 word2vec"
   ]
  },
  {
   "cell_type": "code",
   "execution_count": 152,
   "id": "6f188be2",
   "metadata": {},
   "outputs": [],
   "source": [
    "vocab_size = 10000\n",
    "word_vector_dim = 100\n",
    "\n",
    "GMP_model_ko = keras.Sequential()\n",
    "GMP_model_ko.add(keras.layers.Embedding(vocab_size, \n",
    "                                 word_vector_dim, \n",
    "                                 embeddings_initializer=Constant(embedding_matrix),\n",
    "                                 input_length=maxlen, \n",
    "                                 trainable=True))\n",
    "GMP_model_ko.add(keras.layers.GlobalMaxPooling1D())\n",
    "GMP_model_ko.add(keras.layers.Dense(8, activation='relu'))\n",
    "GMP_model_ko.add(keras.layers.Dense(1, activation='sigmoid'))"
   ]
  },
  {
   "cell_type": "code",
   "execution_count": 153,
   "id": "819a9e42",
   "metadata": {},
   "outputs": [
    {
     "name": "stdout",
     "output_type": "stream",
     "text": [
      "Model: \"sequential_14\"\n",
      "_________________________________________________________________\n",
      "Layer (type)                 Output Shape              Param #   \n",
      "=================================================================\n",
      "embedding_13 (Embedding)     (None, 48, 100)           1000000   \n",
      "_________________________________________________________________\n",
      "global_max_pooling1d_6 (Glob (None, 100)               0         \n",
      "_________________________________________________________________\n",
      "dense_15 (Dense)             (None, 8)                 808       \n",
      "_________________________________________________________________\n",
      "dense_16 (Dense)             (None, 1)                 9         \n",
      "=================================================================\n",
      "Total params: 1,000,817\n",
      "Trainable params: 1,000,817\n",
      "Non-trainable params: 0\n",
      "_________________________________________________________________\n"
     ]
    }
   ],
   "source": [
    "GMP_model_ko.summary()"
   ]
  },
  {
   "cell_type": "code",
   "execution_count": 154,
   "id": "0bea1dbb",
   "metadata": {},
   "outputs": [],
   "source": [
    "GMP_model_ko.compile(optimizer='adam',\n",
    "              loss='binary_crossentropy',\n",
    "              metrics=['accuracy'])"
   ]
  },
  {
   "cell_type": "code",
   "execution_count": 155,
   "id": "5752259c",
   "metadata": {},
   "outputs": [
    {
     "name": "stdout",
     "output_type": "stream",
     "text": [
      "Epoch 1/10\n",
      "3944/3944 [==============================] - 13s 3ms/step - loss: 0.4311 - accuracy: 0.7988 - val_loss: 0.3610 - val_accuracy: 0.8410\n",
      "Epoch 2/10\n",
      "3944/3944 [==============================] - 12s 3ms/step - loss: 0.3149 - accuracy: 0.8661 - val_loss: 0.3352 - val_accuracy: 0.8553\n",
      "Epoch 3/10\n",
      "3944/3944 [==============================] - 12s 3ms/step - loss: 0.2767 - accuracy: 0.8858 - val_loss: 0.3432 - val_accuracy: 0.8522\n",
      "Epoch 4/10\n",
      "3944/3944 [==============================] - 12s 3ms/step - loss: 0.2472 - accuracy: 0.9003 - val_loss: 0.3535 - val_accuracy: 0.8529\n",
      "Epoch 5/10\n",
      "3944/3944 [==============================] - 12s 3ms/step - loss: 0.2199 - accuracy: 0.9133 - val_loss: 0.3806 - val_accuracy: 0.8450\n",
      "Epoch 6/10\n",
      "3944/3944 [==============================] - 12s 3ms/step - loss: 0.1944 - accuracy: 0.9253 - val_loss: 0.3907 - val_accuracy: 0.8495\n",
      "Epoch 7/10\n",
      "3944/3944 [==============================] - 12s 3ms/step - loss: 0.1707 - accuracy: 0.9362 - val_loss: 0.4163 - val_accuracy: 0.8461\n",
      "Epoch 8/10\n",
      "3944/3944 [==============================] - 12s 3ms/step - loss: 0.1488 - accuracy: 0.9458 - val_loss: 0.4591 - val_accuracy: 0.8401\n",
      "Epoch 9/10\n",
      "3944/3944 [==============================] - 12s 3ms/step - loss: 0.1283 - accuracy: 0.9547 - val_loss: 0.5079 - val_accuracy: 0.8415\n",
      "Epoch 10/10\n",
      "3944/3944 [==============================] - 12s 3ms/step - loss: 0.1110 - accuracy: 0.9614 - val_loss: 0.5440 - val_accuracy: 0.8361\n"
     ]
    }
   ],
   "source": [
    "history = GMP_model_ko.fit(partial_x_train,\n",
    "                    partial_y_train,\n",
    "                    epochs=10,\n",
    "                    batch_size=32,\n",
    "                    validation_data=(x_val, y_val),\n",
    "                    verbose=1)"
   ]
  },
  {
   "cell_type": "code",
   "execution_count": 156,
   "id": "7cc7c936",
   "metadata": {},
   "outputs": [
    {
     "name": "stdout",
     "output_type": "stream",
     "text": [
      "1537/1537 - 2s - loss: 0.5457 - accuracy: 0.8328\n",
      "[0.5457369089126587, 0.8328213691711426]\n"
     ]
    }
   ],
   "source": [
    "results = GMP_model_ko.evaluate(X_test,  y_test, verbose=2)\n",
    "\n",
    "print(results)"
   ]
  },
  {
   "cell_type": "markdown",
   "id": "d6a9e5f1",
   "metadata": {},
   "source": []
  },
  {
   "cell_type": "code",
   "execution_count": null,
   "id": "6489dac3",
   "metadata": {},
   "outputs": [],
   "source": []
  },
  {
   "cell_type": "code",
   "execution_count": null,
   "id": "31bd0a87",
   "metadata": {},
   "outputs": [],
   "source": []
  },
  {
   "cell_type": "code",
   "execution_count": null,
   "id": "f8a48212",
   "metadata": {},
   "outputs": [],
   "source": []
  },
  {
   "cell_type": "code",
   "execution_count": null,
   "id": "d2c42f41",
   "metadata": {},
   "outputs": [],
   "source": []
  },
  {
   "cell_type": "code",
   "execution_count": null,
   "id": "4f398223",
   "metadata": {},
   "outputs": [],
   "source": []
  },
  {
   "cell_type": "code",
   "execution_count": null,
   "id": "9b544af5",
   "metadata": {},
   "outputs": [],
   "source": []
  }
 ],
 "metadata": {
  "kernelspec": {
   "display_name": "Python 3 (ipykernel)",
   "language": "python",
   "name": "python3"
  },
  "language_info": {
   "codemirror_mode": {
    "name": "ipython",
    "version": 3
   },
   "file_extension": ".py",
   "mimetype": "text/x-python",
   "name": "python",
   "nbconvert_exporter": "python",
   "pygments_lexer": "ipython3",
   "version": "3.9.7"
  }
 },
 "nbformat": 4,
 "nbformat_minor": 5
}
